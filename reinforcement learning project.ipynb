{
 "cells": [
  {
   "cell_type": "code",
   "execution_count": 1,
   "id": "b7c63c7e",
   "metadata": {},
   "outputs": [],
   "source": [
    "import tensorflow as tf\n"
   ]
  },
  {
   "cell_type": "code",
   "execution_count": 2,
   "id": "b9a13f53",
   "metadata": {},
   "outputs": [],
   "source": [
    "import keras"
   ]
  },
  {
   "cell_type": "code",
   "execution_count": 3,
   "id": "671df4e9",
   "metadata": {},
   "outputs": [],
   "source": [
    "import pandas"
   ]
  },
  {
   "cell_type": "code",
   "execution_count": 4,
   "id": "5ee9a767",
   "metadata": {},
   "outputs": [],
   "source": [
    "import sklearn"
   ]
  },
  {
   "cell_type": "code",
   "execution_count": 5,
   "id": "03280199",
   "metadata": {},
   "outputs": [],
   "source": [
    "import matplotlib"
   ]
  },
  {
   "cell_type": "code",
   "execution_count": 6,
   "id": "0b6e694d",
   "metadata": {},
   "outputs": [],
   "source": [
    "import pandas as pd"
   ]
  },
  {
   "cell_type": "code",
   "execution_count": 7,
   "id": "d8a33ee8",
   "metadata": {},
   "outputs": [],
   "source": [
    "df = pd.read_csv('housepricedata.csv')"
   ]
  },
  {
   "cell_type": "code",
   "execution_count": 8,
   "id": "3be9fec9",
   "metadata": {},
   "outputs": [
    {
     "data": {
      "text/html": [
       "<div>\n",
       "<style scoped>\n",
       "    .dataframe tbody tr th:only-of-type {\n",
       "        vertical-align: middle;\n",
       "    }\n",
       "\n",
       "    .dataframe tbody tr th {\n",
       "        vertical-align: top;\n",
       "    }\n",
       "\n",
       "    .dataframe thead th {\n",
       "        text-align: right;\n",
       "    }\n",
       "</style>\n",
       "<table border=\"1\" class=\"dataframe\">\n",
       "  <thead>\n",
       "    <tr style=\"text-align: right;\">\n",
       "      <th></th>\n",
       "      <th>LotArea</th>\n",
       "      <th>OverallQual</th>\n",
       "      <th>OverallCond</th>\n",
       "      <th>TotalBsmtSF</th>\n",
       "      <th>FullBath</th>\n",
       "      <th>HalfBath</th>\n",
       "      <th>BedroomAbvGr</th>\n",
       "      <th>TotRmsAbvGrd</th>\n",
       "      <th>Fireplaces</th>\n",
       "      <th>GarageArea</th>\n",
       "      <th>AboveMedianPrice</th>\n",
       "    </tr>\n",
       "  </thead>\n",
       "  <tbody>\n",
       "    <tr>\n",
       "      <th>0</th>\n",
       "      <td>8450</td>\n",
       "      <td>7</td>\n",
       "      <td>5</td>\n",
       "      <td>856</td>\n",
       "      <td>2</td>\n",
       "      <td>1</td>\n",
       "      <td>3</td>\n",
       "      <td>8</td>\n",
       "      <td>0</td>\n",
       "      <td>548</td>\n",
       "      <td>1</td>\n",
       "    </tr>\n",
       "    <tr>\n",
       "      <th>1</th>\n",
       "      <td>9600</td>\n",
       "      <td>6</td>\n",
       "      <td>8</td>\n",
       "      <td>1262</td>\n",
       "      <td>2</td>\n",
       "      <td>0</td>\n",
       "      <td>3</td>\n",
       "      <td>6</td>\n",
       "      <td>1</td>\n",
       "      <td>460</td>\n",
       "      <td>1</td>\n",
       "    </tr>\n",
       "    <tr>\n",
       "      <th>2</th>\n",
       "      <td>11250</td>\n",
       "      <td>7</td>\n",
       "      <td>5</td>\n",
       "      <td>920</td>\n",
       "      <td>2</td>\n",
       "      <td>1</td>\n",
       "      <td>3</td>\n",
       "      <td>6</td>\n",
       "      <td>1</td>\n",
       "      <td>608</td>\n",
       "      <td>1</td>\n",
       "    </tr>\n",
       "    <tr>\n",
       "      <th>3</th>\n",
       "      <td>9550</td>\n",
       "      <td>7</td>\n",
       "      <td>5</td>\n",
       "      <td>756</td>\n",
       "      <td>1</td>\n",
       "      <td>0</td>\n",
       "      <td>3</td>\n",
       "      <td>7</td>\n",
       "      <td>1</td>\n",
       "      <td>642</td>\n",
       "      <td>0</td>\n",
       "    </tr>\n",
       "    <tr>\n",
       "      <th>4</th>\n",
       "      <td>14260</td>\n",
       "      <td>8</td>\n",
       "      <td>5</td>\n",
       "      <td>1145</td>\n",
       "      <td>2</td>\n",
       "      <td>1</td>\n",
       "      <td>4</td>\n",
       "      <td>9</td>\n",
       "      <td>1</td>\n",
       "      <td>836</td>\n",
       "      <td>1</td>\n",
       "    </tr>\n",
       "    <tr>\n",
       "      <th>...</th>\n",
       "      <td>...</td>\n",
       "      <td>...</td>\n",
       "      <td>...</td>\n",
       "      <td>...</td>\n",
       "      <td>...</td>\n",
       "      <td>...</td>\n",
       "      <td>...</td>\n",
       "      <td>...</td>\n",
       "      <td>...</td>\n",
       "      <td>...</td>\n",
       "      <td>...</td>\n",
       "    </tr>\n",
       "    <tr>\n",
       "      <th>1455</th>\n",
       "      <td>7917</td>\n",
       "      <td>6</td>\n",
       "      <td>5</td>\n",
       "      <td>953</td>\n",
       "      <td>2</td>\n",
       "      <td>1</td>\n",
       "      <td>3</td>\n",
       "      <td>7</td>\n",
       "      <td>1</td>\n",
       "      <td>460</td>\n",
       "      <td>1</td>\n",
       "    </tr>\n",
       "    <tr>\n",
       "      <th>1456</th>\n",
       "      <td>13175</td>\n",
       "      <td>6</td>\n",
       "      <td>6</td>\n",
       "      <td>1542</td>\n",
       "      <td>2</td>\n",
       "      <td>0</td>\n",
       "      <td>3</td>\n",
       "      <td>7</td>\n",
       "      <td>2</td>\n",
       "      <td>500</td>\n",
       "      <td>1</td>\n",
       "    </tr>\n",
       "    <tr>\n",
       "      <th>1457</th>\n",
       "      <td>9042</td>\n",
       "      <td>7</td>\n",
       "      <td>9</td>\n",
       "      <td>1152</td>\n",
       "      <td>2</td>\n",
       "      <td>0</td>\n",
       "      <td>4</td>\n",
       "      <td>9</td>\n",
       "      <td>2</td>\n",
       "      <td>252</td>\n",
       "      <td>1</td>\n",
       "    </tr>\n",
       "    <tr>\n",
       "      <th>1458</th>\n",
       "      <td>9717</td>\n",
       "      <td>5</td>\n",
       "      <td>6</td>\n",
       "      <td>1078</td>\n",
       "      <td>1</td>\n",
       "      <td>0</td>\n",
       "      <td>2</td>\n",
       "      <td>5</td>\n",
       "      <td>0</td>\n",
       "      <td>240</td>\n",
       "      <td>0</td>\n",
       "    </tr>\n",
       "    <tr>\n",
       "      <th>1459</th>\n",
       "      <td>9937</td>\n",
       "      <td>5</td>\n",
       "      <td>6</td>\n",
       "      <td>1256</td>\n",
       "      <td>1</td>\n",
       "      <td>1</td>\n",
       "      <td>3</td>\n",
       "      <td>6</td>\n",
       "      <td>0</td>\n",
       "      <td>276</td>\n",
       "      <td>0</td>\n",
       "    </tr>\n",
       "  </tbody>\n",
       "</table>\n",
       "<p>1460 rows × 11 columns</p>\n",
       "</div>"
      ],
      "text/plain": [
       "      LotArea  OverallQual  OverallCond  TotalBsmtSF  FullBath  HalfBath  \\\n",
       "0        8450            7            5          856         2         1   \n",
       "1        9600            6            8         1262         2         0   \n",
       "2       11250            7            5          920         2         1   \n",
       "3        9550            7            5          756         1         0   \n",
       "4       14260            8            5         1145         2         1   \n",
       "...       ...          ...          ...          ...       ...       ...   \n",
       "1455     7917            6            5          953         2         1   \n",
       "1456    13175            6            6         1542         2         0   \n",
       "1457     9042            7            9         1152         2         0   \n",
       "1458     9717            5            6         1078         1         0   \n",
       "1459     9937            5            6         1256         1         1   \n",
       "\n",
       "      BedroomAbvGr  TotRmsAbvGrd  Fireplaces  GarageArea  AboveMedianPrice  \n",
       "0                3             8           0         548                 1  \n",
       "1                3             6           1         460                 1  \n",
       "2                3             6           1         608                 1  \n",
       "3                3             7           1         642                 0  \n",
       "4                4             9           1         836                 1  \n",
       "...            ...           ...         ...         ...               ...  \n",
       "1455             3             7           1         460                 1  \n",
       "1456             3             7           2         500                 1  \n",
       "1457             4             9           2         252                 1  \n",
       "1458             2             5           0         240                 0  \n",
       "1459             3             6           0         276                 0  \n",
       "\n",
       "[1460 rows x 11 columns]"
      ]
     },
     "execution_count": 8,
     "metadata": {},
     "output_type": "execute_result"
    }
   ],
   "source": [
    "df"
   ]
  },
  {
   "cell_type": "code",
   "execution_count": 9,
   "id": "bd5eabfd",
   "metadata": {},
   "outputs": [],
   "source": [
    "dataset = df.values"
   ]
  },
  {
   "cell_type": "code",
   "execution_count": 10,
   "id": "6e9b45e4",
   "metadata": {},
   "outputs": [
    {
     "data": {
      "text/plain": [
       "array([[ 8450,     7,     5, ...,     0,   548,     1],\n",
       "       [ 9600,     6,     8, ...,     1,   460,     1],\n",
       "       [11250,     7,     5, ...,     1,   608,     1],\n",
       "       ...,\n",
       "       [ 9042,     7,     9, ...,     2,   252,     1],\n",
       "       [ 9717,     5,     6, ...,     0,   240,     0],\n",
       "       [ 9937,     5,     6, ...,     0,   276,     0]], dtype=int64)"
      ]
     },
     "execution_count": 10,
     "metadata": {},
     "output_type": "execute_result"
    }
   ],
   "source": [
    "dataset"
   ]
  },
  {
   "cell_type": "code",
   "execution_count": 11,
   "id": "7c541531",
   "metadata": {},
   "outputs": [],
   "source": [
    "X = dataset[:,0:10]"
   ]
  },
  {
   "cell_type": "code",
   "execution_count": 12,
   "id": "9f30eb73",
   "metadata": {},
   "outputs": [],
   "source": [
    "Y = dataset[:,10]"
   ]
  },
  {
   "cell_type": "code",
   "execution_count": 13,
   "id": "5b6445af",
   "metadata": {},
   "outputs": [],
   "source": [
    "from sklearn import preprocessing"
   ]
  },
  {
   "cell_type": "code",
   "execution_count": 14,
   "id": "a4fb9be6",
   "metadata": {},
   "outputs": [],
   "source": [
    "min_max_scaler = preprocessing.MinMaxScaler()\n",
    "X_scale = min_max_scaler.fit_transform(X)"
   ]
  },
  {
   "cell_type": "code",
   "execution_count": 15,
   "id": "a2363f34",
   "metadata": {},
   "outputs": [
    {
     "data": {
      "text/plain": [
       "array([[0.0334198 , 0.66666667, 0.5       , ..., 0.5       , 0.        ,\n",
       "        0.3864598 ],\n",
       "       [0.03879502, 0.55555556, 0.875     , ..., 0.33333333, 0.33333333,\n",
       "        0.32440056],\n",
       "       [0.04650728, 0.66666667, 0.5       , ..., 0.33333333, 0.33333333,\n",
       "        0.42877292],\n",
       "       ...,\n",
       "       [0.03618687, 0.66666667, 1.        , ..., 0.58333333, 0.66666667,\n",
       "        0.17771509],\n",
       "       [0.03934189, 0.44444444, 0.625     , ..., 0.25      , 0.        ,\n",
       "        0.16925247],\n",
       "       [0.04037019, 0.44444444, 0.625     , ..., 0.33333333, 0.        ,\n",
       "        0.19464034]])"
      ]
     },
     "execution_count": 15,
     "metadata": {},
     "output_type": "execute_result"
    }
   ],
   "source": [
    "X_scale"
   ]
  },
  {
   "cell_type": "code",
   "execution_count": 16,
   "id": "a93b1271",
   "metadata": {},
   "outputs": [],
   "source": [
    "from sklearn.model_selection import train_test_split"
   ]
  },
  {
   "cell_type": "code",
   "execution_count": 17,
   "id": "1a8902bc",
   "metadata": {},
   "outputs": [],
   "source": [
    "X_train, X_val_and_test, Y_train, Y_val_and_test = train_test_split(X_scale, Y, test_size=0.3)"
   ]
  },
  {
   "cell_type": "code",
   "execution_count": 18,
   "id": "7d9d39c3",
   "metadata": {},
   "outputs": [],
   "source": [
    "X_val, X_test, Y_val, Y_test = train_test_split(X_val_and_test, Y_val_and_test, test_size=0.5)"
   ]
  },
  {
   "cell_type": "code",
   "execution_count": 19,
   "id": "fa5ba346",
   "metadata": {},
   "outputs": [
    {
     "name": "stdout",
     "output_type": "stream",
     "text": [
      "(1022, 10) (219, 10) (219, 10) (1022,) (219,) (219,)\n"
     ]
    }
   ],
   "source": [
    "print(X_train.shape, X_val.shape, X_test.shape, Y_train.shape, Y_val.shape, Y_test.shape)"
   ]
  },
  {
   "cell_type": "code",
   "execution_count": 20,
   "id": "af6235a4",
   "metadata": {},
   "outputs": [],
   "source": [
    "from keras.models import Sequential\n",
    "from keras.layers import Dense"
   ]
  },
  {
   "cell_type": "code",
   "execution_count": 21,
   "id": "d0321a31",
   "metadata": {},
   "outputs": [],
   "source": [
    "model = Sequential([\n",
    "    Dense(32, activation='relu', input_shape=(10,)),\n",
    "    Dense(32, activation='relu'),\n",
    "    Dense(1, activation='sigmoid'),\n",
    "])"
   ]
  },
  {
   "cell_type": "code",
   "execution_count": 22,
   "id": "c64c8e98",
   "metadata": {},
   "outputs": [],
   "source": [
    "model.compile(optimizer='sgd',\n",
    "              loss='binary_crossentropy',\n",
    "              metrics=['accuracy'])"
   ]
  },
  {
   "cell_type": "code",
   "execution_count": 23,
   "id": "fd7c8051",
   "metadata": {},
   "outputs": [
    {
     "name": "stdout",
     "output_type": "stream",
     "text": [
      "Epoch 1/100\n",
      "32/32 [==============================] - 0s 13ms/step - loss: 0.6819 - accuracy: 0.5988 - val_loss: 0.6785 - val_accuracy: 0.6256\n",
      "Epoch 2/100\n",
      "32/32 [==============================] - 0s 2ms/step - loss: 0.6778 - accuracy: 0.6575 - val_loss: 0.6745 - val_accuracy: 0.6484\n",
      "Epoch 3/100\n",
      "32/32 [==============================] - 0s 1ms/step - loss: 0.6736 - accuracy: 0.6996 - val_loss: 0.6704 - val_accuracy: 0.7717\n",
      "Epoch 4/100\n",
      "32/32 [==============================] - 0s 1ms/step - loss: 0.6692 - accuracy: 0.7691 - val_loss: 0.6660 - val_accuracy: 0.7854\n",
      "Epoch 5/100\n",
      "32/32 [==============================] - 0s 2ms/step - loss: 0.6645 - accuracy: 0.7759 - val_loss: 0.6612 - val_accuracy: 0.7808\n",
      "Epoch 6/100\n",
      "32/32 [==============================] - 0s 2ms/step - loss: 0.6595 - accuracy: 0.7886 - val_loss: 0.6562 - val_accuracy: 0.7808\n",
      "Epoch 7/100\n",
      "32/32 [==============================] - 0s 2ms/step - loss: 0.6542 - accuracy: 0.7847 - val_loss: 0.6509 - val_accuracy: 0.7763\n",
      "Epoch 8/100\n",
      "32/32 [==============================] - 0s 2ms/step - loss: 0.6487 - accuracy: 0.7955 - val_loss: 0.6454 - val_accuracy: 0.7854\n",
      "Epoch 9/100\n",
      "32/32 [==============================] - 0s 1ms/step - loss: 0.6429 - accuracy: 0.7935 - val_loss: 0.6392 - val_accuracy: 0.7991\n",
      "Epoch 10/100\n",
      "32/32 [==============================] - 0s 2ms/step - loss: 0.6366 - accuracy: 0.8053 - val_loss: 0.6326 - val_accuracy: 0.8128\n",
      "Epoch 11/100\n",
      "32/32 [==============================] - 0s 1ms/step - loss: 0.6294 - accuracy: 0.8131 - val_loss: 0.6254 - val_accuracy: 0.8174\n",
      "Epoch 12/100\n",
      "32/32 [==============================] - 0s 1ms/step - loss: 0.6215 - accuracy: 0.8209 - val_loss: 0.6174 - val_accuracy: 0.8265\n",
      "Epoch 13/100\n",
      "32/32 [==============================] - 0s 1ms/step - loss: 0.6139 - accuracy: 0.8170 - val_loss: 0.6099 - val_accuracy: 0.8311\n",
      "Epoch 14/100\n",
      "32/32 [==============================] - 0s 2ms/step - loss: 0.6060 - accuracy: 0.8288 - val_loss: 0.6023 - val_accuracy: 0.8265\n",
      "Epoch 15/100\n",
      "32/32 [==============================] - 0s 1ms/step - loss: 0.5978 - accuracy: 0.8317 - val_loss: 0.5936 - val_accuracy: 0.8402\n",
      "Epoch 16/100\n",
      "32/32 [==============================] - 0s 2ms/step - loss: 0.5886 - accuracy: 0.8327 - val_loss: 0.5847 - val_accuracy: 0.8356\n",
      "Epoch 17/100\n",
      "32/32 [==============================] - 0s 1ms/step - loss: 0.5794 - accuracy: 0.8376 - val_loss: 0.5758 - val_accuracy: 0.8356\n",
      "Epoch 18/100\n",
      "32/32 [==============================] - 0s 1ms/step - loss: 0.5703 - accuracy: 0.8366 - val_loss: 0.5667 - val_accuracy: 0.8447\n",
      "Epoch 19/100\n",
      "32/32 [==============================] - 0s 1ms/step - loss: 0.5609 - accuracy: 0.8395 - val_loss: 0.5577 - val_accuracy: 0.8265\n",
      "Epoch 20/100\n",
      "32/32 [==============================] - 0s 1ms/step - loss: 0.5517 - accuracy: 0.8366 - val_loss: 0.5481 - val_accuracy: 0.8356\n",
      "Epoch 21/100\n",
      "32/32 [==============================] - 0s 1ms/step - loss: 0.5419 - accuracy: 0.8405 - val_loss: 0.5385 - val_accuracy: 0.8402\n",
      "Epoch 22/100\n",
      "32/32 [==============================] - 0s 1ms/step - loss: 0.5321 - accuracy: 0.8454 - val_loss: 0.5291 - val_accuracy: 0.8493\n",
      "Epoch 23/100\n",
      "32/32 [==============================] - 0s 1ms/step - loss: 0.5222 - accuracy: 0.8376 - val_loss: 0.5191 - val_accuracy: 0.8447\n",
      "Epoch 24/100\n",
      "32/32 [==============================] - 0s 2ms/step - loss: 0.5126 - accuracy: 0.8523 - val_loss: 0.5094 - val_accuracy: 0.8584\n",
      "Epoch 25/100\n",
      "32/32 [==============================] - 0s 1ms/step - loss: 0.5027 - accuracy: 0.8454 - val_loss: 0.4997 - val_accuracy: 0.8493\n",
      "Epoch 26/100\n",
      "32/32 [==============================] - 0s 1ms/step - loss: 0.4932 - accuracy: 0.8444 - val_loss: 0.4900 - val_accuracy: 0.8539\n",
      "Epoch 27/100\n",
      "32/32 [==============================] - 0s 1ms/step - loss: 0.4832 - accuracy: 0.8493 - val_loss: 0.4805 - val_accuracy: 0.8539\n",
      "Epoch 28/100\n",
      "32/32 [==============================] - 0s 2ms/step - loss: 0.4740 - accuracy: 0.8532 - val_loss: 0.4712 - val_accuracy: 0.8493\n",
      "Epoch 29/100\n",
      "32/32 [==============================] - 0s 1ms/step - loss: 0.4645 - accuracy: 0.8513 - val_loss: 0.4623 - val_accuracy: 0.8539\n",
      "Epoch 30/100\n",
      "32/32 [==============================] - 0s 1ms/step - loss: 0.4554 - accuracy: 0.8503 - val_loss: 0.4533 - val_accuracy: 0.8539\n",
      "Epoch 31/100\n",
      "32/32 [==============================] - 0s 1ms/step - loss: 0.4468 - accuracy: 0.8552 - val_loss: 0.4448 - val_accuracy: 0.8584\n",
      "Epoch 32/100\n",
      "32/32 [==============================] - 0s 1ms/step - loss: 0.4382 - accuracy: 0.8542 - val_loss: 0.4366 - val_accuracy: 0.8584\n",
      "Epoch 33/100\n",
      "32/32 [==============================] - 0s 1ms/step - loss: 0.4302 - accuracy: 0.8591 - val_loss: 0.4286 - val_accuracy: 0.8584\n",
      "Epoch 34/100\n",
      "32/32 [==============================] - 0s 1ms/step - loss: 0.4224 - accuracy: 0.8571 - val_loss: 0.4209 - val_accuracy: 0.8539\n",
      "Epoch 35/100\n",
      "32/32 [==============================] - 0s 2ms/step - loss: 0.4146 - accuracy: 0.8630 - val_loss: 0.4140 - val_accuracy: 0.8630\n",
      "Epoch 36/100\n",
      "32/32 [==============================] - 0s 2ms/step - loss: 0.4079 - accuracy: 0.8601 - val_loss: 0.4067 - val_accuracy: 0.8539\n",
      "Epoch 37/100\n",
      "32/32 [==============================] - 0s 2ms/step - loss: 0.4010 - accuracy: 0.8650 - val_loss: 0.4001 - val_accuracy: 0.8539\n",
      "Epoch 38/100\n",
      "32/32 [==============================] - 0s 1ms/step - loss: 0.3943 - accuracy: 0.8659 - val_loss: 0.3939 - val_accuracy: 0.8584\n",
      "Epoch 39/100\n",
      "32/32 [==============================] - 0s 1ms/step - loss: 0.3879 - accuracy: 0.8669 - val_loss: 0.3881 - val_accuracy: 0.8676\n",
      "Epoch 40/100\n",
      "32/32 [==============================] - 0s 2ms/step - loss: 0.3826 - accuracy: 0.8757 - val_loss: 0.3824 - val_accuracy: 0.8584\n",
      "Epoch 41/100\n",
      "32/32 [==============================] - 0s 2ms/step - loss: 0.3768 - accuracy: 0.8708 - val_loss: 0.3772 - val_accuracy: 0.8584\n",
      "Epoch 42/100\n",
      "32/32 [==============================] - 0s 2ms/step - loss: 0.3719 - accuracy: 0.8718 - val_loss: 0.3721 - val_accuracy: 0.8630\n",
      "Epoch 43/100\n",
      "32/32 [==============================] - 0s 2ms/step - loss: 0.3663 - accuracy: 0.8738 - val_loss: 0.3677 - val_accuracy: 0.8584\n",
      "Epoch 44/100\n",
      "32/32 [==============================] - 0s 2ms/step - loss: 0.3618 - accuracy: 0.8728 - val_loss: 0.3629 - val_accuracy: 0.8676\n",
      "Epoch 45/100\n",
      "32/32 [==============================] - 0s 1ms/step - loss: 0.3574 - accuracy: 0.8748 - val_loss: 0.3588 - val_accuracy: 0.8676\n",
      "Epoch 46/100\n",
      "32/32 [==============================] - 0s 1ms/step - loss: 0.3533 - accuracy: 0.8738 - val_loss: 0.3550 - val_accuracy: 0.8676\n",
      "Epoch 47/100\n",
      "32/32 [==============================] - 0s 1ms/step - loss: 0.3489 - accuracy: 0.8748 - val_loss: 0.3514 - val_accuracy: 0.8721\n",
      "Epoch 48/100\n",
      "32/32 [==============================] - 0s 1ms/step - loss: 0.3453 - accuracy: 0.8787 - val_loss: 0.3479 - val_accuracy: 0.8721\n",
      "Epoch 49/100\n",
      "32/32 [==============================] - 0s 2ms/step - loss: 0.3418 - accuracy: 0.8787 - val_loss: 0.3450 - val_accuracy: 0.8676\n",
      "Epoch 50/100\n",
      "32/32 [==============================] - 0s 2ms/step - loss: 0.3384 - accuracy: 0.8777 - val_loss: 0.3416 - val_accuracy: 0.8767\n",
      "Epoch 51/100\n",
      "32/32 [==============================] - 0s 1ms/step - loss: 0.3352 - accuracy: 0.8806 - val_loss: 0.3388 - val_accuracy: 0.8721\n",
      "Epoch 52/100\n",
      "32/32 [==============================] - 0s 2ms/step - loss: 0.3322 - accuracy: 0.8777 - val_loss: 0.3364 - val_accuracy: 0.8813\n",
      "Epoch 53/100\n",
      "32/32 [==============================] - 0s 1ms/step - loss: 0.3294 - accuracy: 0.8787 - val_loss: 0.3336 - val_accuracy: 0.8813\n",
      "Epoch 54/100\n",
      "32/32 [==============================] - 0s 1ms/step - loss: 0.3265 - accuracy: 0.8826 - val_loss: 0.3312 - val_accuracy: 0.8767\n",
      "Epoch 55/100\n",
      "32/32 [==============================] - 0s 1ms/step - loss: 0.3239 - accuracy: 0.8787 - val_loss: 0.3295 - val_accuracy: 0.8767\n",
      "Epoch 56/100\n",
      "32/32 [==============================] - 0s 1ms/step - loss: 0.3215 - accuracy: 0.8777 - val_loss: 0.3279 - val_accuracy: 0.8813\n",
      "Epoch 57/100\n",
      "32/32 [==============================] - 0s 1ms/step - loss: 0.3189 - accuracy: 0.8796 - val_loss: 0.3251 - val_accuracy: 0.8721\n",
      "Epoch 58/100\n",
      "32/32 [==============================] - 0s 1ms/step - loss: 0.3167 - accuracy: 0.8806 - val_loss: 0.3239 - val_accuracy: 0.8767\n",
      "Epoch 59/100\n",
      "32/32 [==============================] - 0s 1ms/step - loss: 0.3149 - accuracy: 0.8836 - val_loss: 0.3221 - val_accuracy: 0.8767\n",
      "Epoch 60/100\n",
      "32/32 [==============================] - 0s 1ms/step - loss: 0.3132 - accuracy: 0.8836 - val_loss: 0.3201 - val_accuracy: 0.8721\n",
      "Epoch 61/100\n",
      "32/32 [==============================] - 0s 1ms/step - loss: 0.3106 - accuracy: 0.8816 - val_loss: 0.3193 - val_accuracy: 0.8767\n",
      "Epoch 62/100\n",
      "32/32 [==============================] - 0s 2ms/step - loss: 0.3093 - accuracy: 0.8816 - val_loss: 0.3173 - val_accuracy: 0.8813\n",
      "Epoch 63/100\n",
      "32/32 [==============================] - 0s 2ms/step - loss: 0.3069 - accuracy: 0.8855 - val_loss: 0.3162 - val_accuracy: 0.8721\n",
      "Epoch 64/100\n",
      "32/32 [==============================] - 0s 1ms/step - loss: 0.3046 - accuracy: 0.8826 - val_loss: 0.3155 - val_accuracy: 0.8904\n",
      "Epoch 65/100\n",
      "32/32 [==============================] - 0s 1ms/step - loss: 0.3035 - accuracy: 0.8806 - val_loss: 0.3137 - val_accuracy: 0.8858\n",
      "Epoch 66/100\n",
      "32/32 [==============================] - 0s 1ms/step - loss: 0.3016 - accuracy: 0.8836 - val_loss: 0.3129 - val_accuracy: 0.8721\n",
      "Epoch 67/100\n",
      "32/32 [==============================] - 0s 1ms/step - loss: 0.3003 - accuracy: 0.8826 - val_loss: 0.3119 - val_accuracy: 0.8904\n",
      "Epoch 68/100\n",
      "32/32 [==============================] - 0s 1ms/step - loss: 0.2993 - accuracy: 0.8836 - val_loss: 0.3113 - val_accuracy: 0.8904\n",
      "Epoch 69/100\n",
      "32/32 [==============================] - 0s 1ms/step - loss: 0.2981 - accuracy: 0.8836 - val_loss: 0.3098 - val_accuracy: 0.8904\n",
      "Epoch 70/100\n",
      "32/32 [==============================] - 0s 1ms/step - loss: 0.2965 - accuracy: 0.8855 - val_loss: 0.3090 - val_accuracy: 0.8904\n",
      "Epoch 71/100\n",
      "32/32 [==============================] - 0s 1ms/step - loss: 0.2941 - accuracy: 0.8855 - val_loss: 0.3094 - val_accuracy: 0.8904\n",
      "Epoch 72/100\n",
      "32/32 [==============================] - 0s 1ms/step - loss: 0.2933 - accuracy: 0.8816 - val_loss: 0.3079 - val_accuracy: 0.8904\n",
      "Epoch 73/100\n",
      "32/32 [==============================] - 0s 2ms/step - loss: 0.2918 - accuracy: 0.8845 - val_loss: 0.3070 - val_accuracy: 0.8767\n",
      "Epoch 74/100\n",
      "32/32 [==============================] - 0s 3ms/step - loss: 0.2910 - accuracy: 0.8865 - val_loss: 0.3061 - val_accuracy: 0.8904\n",
      "Epoch 75/100\n",
      "32/32 [==============================] - 0s 3ms/step - loss: 0.2892 - accuracy: 0.8855 - val_loss: 0.3062 - val_accuracy: 0.8904\n",
      "Epoch 76/100\n",
      "32/32 [==============================] - 0s 3ms/step - loss: 0.2886 - accuracy: 0.8865 - val_loss: 0.3066 - val_accuracy: 0.8950\n",
      "Epoch 77/100\n",
      "32/32 [==============================] - 0s 2ms/step - loss: 0.2882 - accuracy: 0.8845 - val_loss: 0.3043 - val_accuracy: 0.8858\n",
      "Epoch 78/100\n",
      "32/32 [==============================] - 0s 2ms/step - loss: 0.2871 - accuracy: 0.8865 - val_loss: 0.3038 - val_accuracy: 0.8904\n",
      "Epoch 79/100\n",
      "32/32 [==============================] - 0s 2ms/step - loss: 0.2853 - accuracy: 0.8885 - val_loss: 0.3035 - val_accuracy: 0.8904\n",
      "Epoch 80/100\n",
      "32/32 [==============================] - 0s 2ms/step - loss: 0.2844 - accuracy: 0.8865 - val_loss: 0.3036 - val_accuracy: 0.8904\n",
      "Epoch 81/100\n",
      "32/32 [==============================] - 0s 3ms/step - loss: 0.2835 - accuracy: 0.8865 - val_loss: 0.3025 - val_accuracy: 0.8904\n",
      "Epoch 82/100\n",
      "32/32 [==============================] - 0s 4ms/step - loss: 0.2828 - accuracy: 0.8894 - val_loss: 0.3020 - val_accuracy: 0.8858\n",
      "Epoch 83/100\n",
      "32/32 [==============================] - 0s 2ms/step - loss: 0.2811 - accuracy: 0.8885 - val_loss: 0.3016 - val_accuracy: 0.8858\n",
      "Epoch 84/100\n",
      "32/32 [==============================] - 0s 2ms/step - loss: 0.2806 - accuracy: 0.8894 - val_loss: 0.3017 - val_accuracy: 0.8950\n",
      "Epoch 85/100\n",
      "32/32 [==============================] - 0s 2ms/step - loss: 0.2798 - accuracy: 0.8885 - val_loss: 0.3009 - val_accuracy: 0.8995\n",
      "Epoch 86/100\n",
      "32/32 [==============================] - 0s 2ms/step - loss: 0.2789 - accuracy: 0.8845 - val_loss: 0.3015 - val_accuracy: 0.8950\n",
      "Epoch 87/100\n",
      "32/32 [==============================] - 0s 2ms/step - loss: 0.2782 - accuracy: 0.8875 - val_loss: 0.3003 - val_accuracy: 0.8950\n",
      "Epoch 88/100\n",
      "32/32 [==============================] - 0s 2ms/step - loss: 0.2770 - accuracy: 0.8875 - val_loss: 0.3000 - val_accuracy: 0.9041\n",
      "Epoch 89/100\n",
      "32/32 [==============================] - 0s 2ms/step - loss: 0.2761 - accuracy: 0.8865 - val_loss: 0.3012 - val_accuracy: 0.8950\n",
      "Epoch 90/100\n",
      "32/32 [==============================] - 0s 2ms/step - loss: 0.2746 - accuracy: 0.8914 - val_loss: 0.3012 - val_accuracy: 0.8950\n",
      "Epoch 91/100\n",
      "32/32 [==============================] - 0s 2ms/step - loss: 0.2744 - accuracy: 0.8845 - val_loss: 0.2995 - val_accuracy: 0.8950\n",
      "Epoch 92/100\n",
      "32/32 [==============================] - 0s 2ms/step - loss: 0.2740 - accuracy: 0.8885 - val_loss: 0.2990 - val_accuracy: 0.9041\n",
      "Epoch 93/100\n",
      "32/32 [==============================] - 0s 2ms/step - loss: 0.2731 - accuracy: 0.8904 - val_loss: 0.2996 - val_accuracy: 0.8995\n",
      "Epoch 94/100\n",
      "32/32 [==============================] - 0s 2ms/step - loss: 0.2725 - accuracy: 0.8845 - val_loss: 0.2987 - val_accuracy: 0.8995\n",
      "Epoch 95/100\n",
      "32/32 [==============================] - 0s 2ms/step - loss: 0.2711 - accuracy: 0.8904 - val_loss: 0.2984 - val_accuracy: 0.9041\n",
      "Epoch 96/100\n",
      "32/32 [==============================] - 0s 2ms/step - loss: 0.2702 - accuracy: 0.8914 - val_loss: 0.2982 - val_accuracy: 0.9041\n",
      "Epoch 97/100\n",
      "32/32 [==============================] - 0s 2ms/step - loss: 0.2694 - accuracy: 0.8924 - val_loss: 0.2981 - val_accuracy: 0.8995\n",
      "Epoch 98/100\n",
      "32/32 [==============================] - 0s 2ms/step - loss: 0.2692 - accuracy: 0.8885 - val_loss: 0.2989 - val_accuracy: 0.8950\n",
      "Epoch 99/100\n",
      "32/32 [==============================] - 0s 2ms/step - loss: 0.2690 - accuracy: 0.8904 - val_loss: 0.2981 - val_accuracy: 0.8995\n",
      "Epoch 100/100\n",
      "32/32 [==============================] - 0s 2ms/step - loss: 0.2675 - accuracy: 0.8914 - val_loss: 0.2977 - val_accuracy: 0.9041\n"
     ]
    }
   ],
   "source": [
    "hist = model.fit(X_train, Y_train,\n",
    "          batch_size=32, epochs=100,\n",
    "          validation_data=(X_val, Y_val))"
   ]
  },
  {
   "cell_type": "code",
   "execution_count": 24,
   "id": "c9011bea",
   "metadata": {},
   "outputs": [
    {
     "name": "stdout",
     "output_type": "stream",
     "text": [
      "7/7 [==============================] - 0s 1ms/step - loss: 0.2729 - accuracy: 0.8721\n"
     ]
    },
    {
     "data": {
      "text/plain": [
       "0.8721461296081543"
      ]
     },
     "execution_count": 24,
     "metadata": {},
     "output_type": "execute_result"
    }
   ],
   "source": [
    "model.evaluate(X_test, Y_test)[1]"
   ]
  },
  {
   "cell_type": "code",
   "execution_count": 25,
   "id": "59375224",
   "metadata": {},
   "outputs": [],
   "source": [
    "import matplotlib.pyplot as plt"
   ]
  },
  {
   "cell_type": "code",
   "execution_count": 26,
   "id": "de35ac29",
   "metadata": {},
   "outputs": [
    {
     "data": {
      "image/png": "[encoded data removed]",
      "text/plain": [
       "<Figure size 432x288 with 1 Axes>"
      ]
     },
     "metadata": {
      "needs_background": "light"
     },
     "output_type": "display_data"
    }
   ],
   "source": [
    "plt.plot(hist.history['loss'])\n",
    "plt.plot(hist.history['val_loss'])\n",
    "plt.title('Model loss')\n",
    "plt.ylabel('Loss')\n",
    "plt.xlabel('Epoch')\n",
    "plt.legend(['Train', 'Val'], loc='upper right')\n",
    "plt.show()"
   ]
  },
  {
   "cell_type": "code",
   "execution_count": 28,
   "id": "039ced60",
   "metadata": {},
   "outputs": [
    {
     "data": {
      "image/png": "[encoded data removed]",
      "text/plain": [
       "<Figure size 432x288 with 1 Axes>"
      ]
     },
     "metadata": {
      "needs_background": "light"
     },
     "output_type": "display_data"
    }
   ],
   "source": [
    "plt.plot(hist.history['accuracy'])\n",
    "plt.plot(hist.history['val_accuracy'])\n",
    "plt.title('Model accuracy')\n",
    "plt.ylabel('Accuracy')\n",
    "plt.xlabel('Epoch')\n",
    "plt.legend(['Train', 'Val'], loc='lower right')\n",
    "plt.show()"
   ]
  },
  {
   "cell_type": "code",
   "execution_count": 29,
   "id": "0a4be0ca",
   "metadata": {},
   "outputs": [],
   "source": [
    "model_2 = Sequential([\n",
    "    Dense(1000, activation='relu', input_shape=(10,)),\n",
    "    Dense(1000, activation='relu'),\n",
    "    Dense(1000, activation='relu'),\n",
    "    Dense(1000, activation='relu'),\n",
    "    Dense(1, activation='sigmoid'),\n",
    "])"
   ]
  },
  {
   "cell_type": "code",
   "execution_count": 30,
   "id": "ed7ad64e",
   "metadata": {},
   "outputs": [],
   "source": [
    "model_2.compile(optimizer='adam',\n",
    "              loss='binary_crossentropy',\n",
    "              metrics=['accuracy'])"
   ]
  },
  {
   "cell_type": "code",
   "execution_count": 31,
   "id": "63acd411",
   "metadata": {},
   "outputs": [
    {
     "name": "stdout",
     "output_type": "stream",
     "text": [
      "Epoch 1/100\n",
      "32/32 [==============================] - 2s 49ms/step - loss: 0.5071 - accuracy: 0.7358 - val_loss: 0.3492 - val_accuracy: 0.8676\n",
      "Epoch 2/100\n",
      "32/32 [==============================] - 1s 44ms/step - loss: 0.3596 - accuracy: 0.8581 - val_loss: 0.3218 - val_accuracy: 0.8813\n",
      "Epoch 3/100\n",
      "32/32 [==============================] - 1s 42ms/step - loss: 0.3198 - accuracy: 0.8669 - val_loss: 0.3174 - val_accuracy: 0.8858\n",
      "Epoch 4/100\n",
      "32/32 [==============================] - 1s 36ms/step - loss: 0.2797 - accuracy: 0.8904 - val_loss: 0.3098 - val_accuracy: 0.8950\n",
      "Epoch 5/100\n",
      "32/32 [==============================] - 1s 34ms/step - loss: 0.2494 - accuracy: 0.8963 - val_loss: 0.3193 - val_accuracy: 0.8950\n",
      "Epoch 6/100\n",
      "32/32 [==============================] - 1s 36ms/step - loss: 0.2674 - accuracy: 0.8904 - val_loss: 0.3658 - val_accuracy: 0.8676\n",
      "Epoch 7/100\n",
      "32/32 [==============================] - 1s 34ms/step - loss: 0.2777 - accuracy: 0.8885 - val_loss: 0.3246 - val_accuracy: 0.9132\n",
      "Epoch 8/100\n",
      "32/32 [==============================] - 1s 34ms/step - loss: 0.2487 - accuracy: 0.8894 - val_loss: 0.3815 - val_accuracy: 0.8813\n",
      "Epoch 9/100\n",
      "32/32 [==============================] - 1s 34ms/step - loss: 0.2340 - accuracy: 0.9041 - val_loss: 0.3882 - val_accuracy: 0.8950\n",
      "Epoch 10/100\n",
      "32/32 [==============================] - 1s 35ms/step - loss: 0.2355 - accuracy: 0.8943 - val_loss: 0.3423 - val_accuracy: 0.8950\n",
      "Epoch 11/100\n",
      "32/32 [==============================] - 1s 35ms/step - loss: 0.2117 - accuracy: 0.9070 - val_loss: 0.3906 - val_accuracy: 0.8858\n",
      "Epoch 12/100\n",
      "32/32 [==============================] - 1s 43ms/step - loss: 0.2205 - accuracy: 0.9090 - val_loss: 0.3393 - val_accuracy: 0.8904\n",
      "Epoch 13/100\n",
      "32/32 [==============================] - 1s 40ms/step - loss: 0.2328 - accuracy: 0.8973 - val_loss: 0.3499 - val_accuracy: 0.9041\n",
      "Epoch 14/100\n",
      "32/32 [==============================] - 1s 37ms/step - loss: 0.2196 - accuracy: 0.9139 - val_loss: 0.3857 - val_accuracy: 0.8950\n",
      "Epoch 15/100\n",
      "32/32 [==============================] - 1s 39ms/step - loss: 0.2173 - accuracy: 0.9041 - val_loss: 0.3384 - val_accuracy: 0.8950\n",
      "Epoch 16/100\n",
      "32/32 [==============================] - 1s 41ms/step - loss: 0.2071 - accuracy: 0.9051 - val_loss: 0.3570 - val_accuracy: 0.8995\n",
      "Epoch 17/100\n",
      "32/32 [==============================] - 1s 39ms/step - loss: 0.1976 - accuracy: 0.9070 - val_loss: 0.3806 - val_accuracy: 0.8904\n",
      "Epoch 18/100\n",
      "32/32 [==============================] - 1s 44ms/step - loss: 0.1963 - accuracy: 0.9129 - val_loss: 0.3722 - val_accuracy: 0.9041\n",
      "Epoch 19/100\n",
      "32/32 [==============================] - 1s 44ms/step - loss: 0.2007 - accuracy: 0.9070 - val_loss: 0.3974 - val_accuracy: 0.8995\n",
      "Epoch 20/100\n",
      "32/32 [==============================] - 1s 39ms/step - loss: 0.1913 - accuracy: 0.9159 - val_loss: 0.4697 - val_accuracy: 0.8813\n",
      "Epoch 21/100\n",
      "32/32 [==============================] - 1s 37ms/step - loss: 0.1943 - accuracy: 0.9119 - val_loss: 0.3988 - val_accuracy: 0.8950\n",
      "Epoch 22/100\n",
      "32/32 [==============================] - 1s 35ms/step - loss: 0.1931 - accuracy: 0.9149 - val_loss: 0.3868 - val_accuracy: 0.8950\n",
      "Epoch 23/100\n",
      "32/32 [==============================] - 1s 32ms/step - loss: 0.1919 - accuracy: 0.9119 - val_loss: 0.3845 - val_accuracy: 0.9132\n",
      "Epoch 24/100\n",
      "32/32 [==============================] - 1s 31ms/step - loss: 0.1942 - accuracy: 0.9188 - val_loss: 0.4166 - val_accuracy: 0.8950\n",
      "Epoch 25/100\n",
      "32/32 [==============================] - 1s 32ms/step - loss: 0.1813 - accuracy: 0.9168 - val_loss: 0.5035 - val_accuracy: 0.8995\n",
      "Epoch 26/100\n",
      "32/32 [==============================] - 1s 31ms/step - loss: 0.1789 - accuracy: 0.9119 - val_loss: 0.4239 - val_accuracy: 0.9041\n",
      "Epoch 27/100\n",
      "32/32 [==============================] - 1s 31ms/step - loss: 0.1852 - accuracy: 0.9256 - val_loss: 0.4469 - val_accuracy: 0.8904\n",
      "Epoch 28/100\n",
      "32/32 [==============================] - 1s 30ms/step - loss: 0.1842 - accuracy: 0.9207 - val_loss: 0.4224 - val_accuracy: 0.8950\n",
      "Epoch 29/100\n",
      "32/32 [==============================] - 1s 31ms/step - loss: 0.1760 - accuracy: 0.9217 - val_loss: 0.4768 - val_accuracy: 0.8858\n",
      "Epoch 30/100\n",
      "32/32 [==============================] - 1s 31ms/step - loss: 0.1898 - accuracy: 0.9217 - val_loss: 0.4181 - val_accuracy: 0.8950\n",
      "Epoch 31/100\n",
      "32/32 [==============================] - 1s 31ms/step - loss: 0.2019 - accuracy: 0.9119 - val_loss: 0.4306 - val_accuracy: 0.8858\n",
      "Epoch 32/100\n",
      "32/32 [==============================] - 1s 31ms/step - loss: 0.2023 - accuracy: 0.9051 - val_loss: 0.4057 - val_accuracy: 0.8904\n",
      "Epoch 33/100\n",
      "32/32 [==============================] - 1s 35ms/step - loss: 0.1749 - accuracy: 0.9247 - val_loss: 0.5000 - val_accuracy: 0.8904\n",
      "Epoch 34/100\n",
      "32/32 [==============================] - 1s 42ms/step - loss: 0.1773 - accuracy: 0.9227 - val_loss: 0.4672 - val_accuracy: 0.8904\n",
      "Epoch 35/100\n",
      "32/32 [==============================] - 1s 37ms/step - loss: 0.1710 - accuracy: 0.9286 - val_loss: 0.4670 - val_accuracy: 0.9041\n",
      "Epoch 36/100\n",
      "32/32 [==============================] - 1s 37ms/step - loss: 0.1595 - accuracy: 0.9305 - val_loss: 0.5573 - val_accuracy: 0.8995\n",
      "Epoch 37/100\n",
      "32/32 [==============================] - 1s 41ms/step - loss: 0.1918 - accuracy: 0.9012 - val_loss: 0.4505 - val_accuracy: 0.8904\n",
      "Epoch 38/100\n",
      "32/32 [==============================] - 1s 36ms/step - loss: 0.1983 - accuracy: 0.9080 - val_loss: 0.4595 - val_accuracy: 0.8858\n",
      "Epoch 39/100\n",
      "32/32 [==============================] - 1s 32ms/step - loss: 0.1814 - accuracy: 0.9237 - val_loss: 0.5172 - val_accuracy: 0.8767\n",
      "Epoch 40/100\n",
      "32/32 [==============================] - 1s 32ms/step - loss: 0.1802 - accuracy: 0.9159 - val_loss: 0.4549 - val_accuracy: 0.8858\n",
      "Epoch 41/100\n",
      "32/32 [==============================] - 1s 39ms/step - loss: 0.2195 - accuracy: 0.9051 - val_loss: 0.4162 - val_accuracy: 0.8858\n",
      "Epoch 42/100\n",
      "32/32 [==============================] - 1s 37ms/step - loss: 0.1792 - accuracy: 0.9237 - val_loss: 0.5231 - val_accuracy: 0.8904\n",
      "Epoch 43/100\n",
      "32/32 [==============================] - 1s 38ms/step - loss: 0.1780 - accuracy: 0.9247 - val_loss: 0.4808 - val_accuracy: 0.8950\n",
      "Epoch 44/100\n",
      "32/32 [==============================] - 1s 44ms/step - loss: 0.1563 - accuracy: 0.9335 - val_loss: 0.4925 - val_accuracy: 0.8858\n",
      "Epoch 45/100\n",
      "32/32 [==============================] - 1s 40ms/step - loss: 0.1709 - accuracy: 0.9256 - val_loss: 0.4705 - val_accuracy: 0.8904\n",
      "Epoch 46/100\n",
      "32/32 [==============================] - 1s 43ms/step - loss: 0.1773 - accuracy: 0.9227 - val_loss: 0.4669 - val_accuracy: 0.8813\n",
      "Epoch 47/100\n",
      "32/32 [==============================] - 1s 45ms/step - loss: 0.1669 - accuracy: 0.9295 - val_loss: 0.5098 - val_accuracy: 0.8950\n",
      "Epoch 48/100\n",
      "32/32 [==============================] - 2s 47ms/step - loss: 0.1733 - accuracy: 0.9286 - val_loss: 0.4410 - val_accuracy: 0.8858\n",
      "Epoch 49/100\n",
      "32/32 [==============================] - 1s 46ms/step - loss: 0.1665 - accuracy: 0.9325 - val_loss: 0.4679 - val_accuracy: 0.8676\n",
      "Epoch 50/100\n",
      "32/32 [==============================] - 1s 47ms/step - loss: 0.1638 - accuracy: 0.9335 - val_loss: 0.6077 - val_accuracy: 0.8950\n",
      "Epoch 51/100\n",
      "32/32 [==============================] - 1s 43ms/step - loss: 0.1580 - accuracy: 0.9335 - val_loss: 0.5101 - val_accuracy: 0.8858\n",
      "Epoch 52/100\n",
      "32/32 [==============================] - 1s 38ms/step - loss: 0.1517 - accuracy: 0.9423 - val_loss: 0.5210 - val_accuracy: 0.8904\n",
      "Epoch 53/100\n",
      "32/32 [==============================] - 1s 36ms/step - loss: 0.1707 - accuracy: 0.9207 - val_loss: 0.4935 - val_accuracy: 0.8813\n",
      "Epoch 54/100\n",
      "32/32 [==============================] - 1s 37ms/step - loss: 0.1519 - accuracy: 0.9364 - val_loss: 0.5601 - val_accuracy: 0.8767\n",
      "Epoch 55/100\n",
      "32/32 [==============================] - 1s 39ms/step - loss: 0.1556 - accuracy: 0.9354 - val_loss: 0.5976 - val_accuracy: 0.8767\n",
      "Epoch 56/100\n",
      "32/32 [==============================] - 1s 40ms/step - loss: 0.1703 - accuracy: 0.9247 - val_loss: 0.5298 - val_accuracy: 0.8904\n",
      "Epoch 57/100\n",
      "32/32 [==============================] - 1s 43ms/step - loss: 0.1503 - accuracy: 0.9335 - val_loss: 0.5143 - val_accuracy: 0.8950\n",
      "Epoch 58/100\n",
      "32/32 [==============================] - 2s 49ms/step - loss: 0.1569 - accuracy: 0.9393 - val_loss: 0.6218 - val_accuracy: 0.8813\n",
      "Epoch 59/100\n",
      "32/32 [==============================] - 1s 42ms/step - loss: 0.1483 - accuracy: 0.9393 - val_loss: 0.6039 - val_accuracy: 0.8813\n",
      "Epoch 60/100\n",
      "32/32 [==============================] - 1s 42ms/step - loss: 0.1451 - accuracy: 0.9374 - val_loss: 0.5983 - val_accuracy: 0.8813\n",
      "Epoch 61/100\n",
      "32/32 [==============================] - 1s 42ms/step - loss: 0.1434 - accuracy: 0.9413 - val_loss: 0.6638 - val_accuracy: 0.8995\n",
      "Epoch 62/100\n",
      "32/32 [==============================] - 2s 49ms/step - loss: 0.1605 - accuracy: 0.9266 - val_loss: 0.6100 - val_accuracy: 0.8813\n",
      "Epoch 63/100\n",
      "32/32 [==============================] - 1s 40ms/step - loss: 0.1721 - accuracy: 0.9266 - val_loss: 0.7143 - val_accuracy: 0.8950\n",
      "Epoch 64/100\n",
      "32/32 [==============================] - 1s 38ms/step - loss: 0.1671 - accuracy: 0.9315 - val_loss: 0.5671 - val_accuracy: 0.8858\n",
      "Epoch 65/100\n",
      "32/32 [==============================] - 1s 33ms/step - loss: 0.1421 - accuracy: 0.9403 - val_loss: 0.5711 - val_accuracy: 0.8767\n",
      "Epoch 66/100\n",
      "32/32 [==============================] - 1s 33ms/step - loss: 0.1488 - accuracy: 0.9413 - val_loss: 0.5060 - val_accuracy: 0.8813\n",
      "Epoch 67/100\n",
      "32/32 [==============================] - ETA: 0s - loss: 0.1278 - accuracy: 0.94 - 1s 34ms/step - loss: 0.1300 - accuracy: 0.9491 - val_loss: 0.6001 - val_accuracy: 0.8904\n",
      "Epoch 68/100\n",
      "32/32 [==============================] - 1s 37ms/step - loss: 0.1275 - accuracy: 0.9501 - val_loss: 0.6376 - val_accuracy: 0.8813\n",
      "Epoch 69/100\n",
      "32/32 [==============================] - 2s 47ms/step - loss: 0.1296 - accuracy: 0.9481 - val_loss: 0.7064 - val_accuracy: 0.8858\n",
      "Epoch 70/100\n",
      "32/32 [==============================] - 1s 42ms/step - loss: 0.1400 - accuracy: 0.9354 - val_loss: 0.6475 - val_accuracy: 0.8767\n",
      "Epoch 71/100\n",
      "32/32 [==============================] - 1s 41ms/step - loss: 0.1371 - accuracy: 0.9472 - val_loss: 0.6285 - val_accuracy: 0.8858\n",
      "Epoch 72/100\n",
      "32/32 [==============================] - 1s 47ms/step - loss: 0.1189 - accuracy: 0.9540 - val_loss: 0.7500 - val_accuracy: 0.8813\n",
      "Epoch 73/100\n",
      "32/32 [==============================] - 1s 40ms/step - loss: 0.1546 - accuracy: 0.9413 - val_loss: 0.6388 - val_accuracy: 0.8813\n",
      "Epoch 74/100\n",
      "32/32 [==============================] - 1s 40ms/step - loss: 0.1571 - accuracy: 0.9325 - val_loss: 0.5648 - val_accuracy: 0.8858\n",
      "Epoch 75/100\n",
      "32/32 [==============================] - 1s 45ms/step - loss: 0.1381 - accuracy: 0.9423 - val_loss: 0.6767 - val_accuracy: 0.8767\n",
      "Epoch 76/100\n",
      "32/32 [==============================] - 1s 42ms/step - loss: 0.1270 - accuracy: 0.9432 - val_loss: 0.7389 - val_accuracy: 0.8767\n",
      "Epoch 77/100\n",
      "32/32 [==============================] - 1s 43ms/step - loss: 0.1258 - accuracy: 0.9491 - val_loss: 0.7328 - val_accuracy: 0.8813\n",
      "Epoch 78/100\n",
      "32/32 [==============================] - 1s 47ms/step - loss: 0.1446 - accuracy: 0.9472 - val_loss: 0.6236 - val_accuracy: 0.8767\n",
      "Epoch 79/100\n",
      "32/32 [==============================] - 2s 48ms/step - loss: 0.1269 - accuracy: 0.9491 - val_loss: 0.7673 - val_accuracy: 0.8813\n",
      "Epoch 80/100\n",
      "32/32 [==============================] - 2s 49ms/step - loss: 0.1379 - accuracy: 0.9374 - val_loss: 0.7298 - val_accuracy: 0.8767\n",
      "Epoch 81/100\n",
      "32/32 [==============================] - 1s 43ms/step - loss: 0.1585 - accuracy: 0.9364 - val_loss: 0.6014 - val_accuracy: 0.8858\n",
      "Epoch 82/100\n",
      "32/32 [==============================] - 1s 43ms/step - loss: 0.1429 - accuracy: 0.9403 - val_loss: 0.5883 - val_accuracy: 0.8904\n",
      "Epoch 83/100\n",
      "32/32 [==============================] - 1s 44ms/step - loss: 0.1191 - accuracy: 0.9569 - val_loss: 0.7020 - val_accuracy: 0.8767\n",
      "Epoch 84/100\n",
      "32/32 [==============================] - 1s 44ms/step - loss: 0.1160 - accuracy: 0.9521 - val_loss: 0.7392 - val_accuracy: 0.8676\n",
      "Epoch 85/100\n",
      "32/32 [==============================] - 1s 46ms/step - loss: 0.1334 - accuracy: 0.9452 - val_loss: 0.7953 - val_accuracy: 0.8904\n",
      "Epoch 86/100\n",
      "32/32 [==============================] - 2s 48ms/step - loss: 0.1053 - accuracy: 0.9550 - val_loss: 0.9182 - val_accuracy: 0.8950\n",
      "Epoch 87/100\n",
      "32/32 [==============================] - 2s 48ms/step - loss: 0.1076 - accuracy: 0.9589 - val_loss: 0.9562 - val_accuracy: 0.8995\n",
      "Epoch 88/100\n",
      "32/32 [==============================] - 1s 45ms/step - loss: 0.1260 - accuracy: 0.9442 - val_loss: 0.7173 - val_accuracy: 0.8767\n",
      "Epoch 89/100\n",
      "32/32 [==============================] - 1s 44ms/step - loss: 0.1308 - accuracy: 0.9413 - val_loss: 0.8172 - val_accuracy: 0.8858\n",
      "Epoch 90/100\n",
      "32/32 [==============================] - 1s 47ms/step - loss: 0.1344 - accuracy: 0.9364 - val_loss: 0.7008 - val_accuracy: 0.8858\n",
      "Epoch 91/100\n",
      "32/32 [==============================] - 1s 46ms/step - loss: 0.1053 - accuracy: 0.9589 - val_loss: 0.9354 - val_accuracy: 0.8676\n",
      "Epoch 92/100\n",
      "32/32 [==============================] - 1s 46ms/step - loss: 0.1358 - accuracy: 0.9550 - val_loss: 0.7634 - val_accuracy: 0.8676\n",
      "Epoch 93/100\n",
      "32/32 [==============================] - 1s 45ms/step - loss: 0.1392 - accuracy: 0.9423 - val_loss: 0.7297 - val_accuracy: 0.8904\n",
      "Epoch 94/100\n",
      "32/32 [==============================] - 1s 42ms/step - loss: 0.1213 - accuracy: 0.9462 - val_loss: 0.7991 - val_accuracy: 0.8858\n",
      "Epoch 95/100\n",
      "32/32 [==============================] - 1s 42ms/step - loss: 0.1071 - accuracy: 0.9609 - val_loss: 0.9183 - val_accuracy: 0.8813\n",
      "Epoch 96/100\n",
      "32/32 [==============================] - 1s 46ms/step - loss: 0.1076 - accuracy: 0.9530 - val_loss: 1.0034 - val_accuracy: 0.8630\n",
      "Epoch 97/100\n",
      "32/32 [==============================] - 1s 43ms/step - loss: 0.1849 - accuracy: 0.9276 - val_loss: 0.5985 - val_accuracy: 0.8858\n",
      "Epoch 98/100\n",
      "32/32 [==============================] - 1s 42ms/step - loss: 0.1288 - accuracy: 0.9511 - val_loss: 0.8303 - val_accuracy: 0.8721\n",
      "Epoch 99/100\n",
      "32/32 [==============================] - 1s 45ms/step - loss: 0.1089 - accuracy: 0.9589 - val_loss: 0.8095 - val_accuracy: 0.8813\n",
      "Epoch 100/100\n",
      "32/32 [==============================] - 1s 44ms/step - loss: 0.1096 - accuracy: 0.9599 - val_loss: 0.7963 - val_accuracy: 0.8813\n"
     ]
    }
   ],
   "source": [
    "hist_2 = model_2.fit(X_train, Y_train,\n",
    "          batch_size=32, epochs=100,\n",
    "          validation_data=(X_val, Y_val))"
   ]
  },
  {
   "cell_type": "code",
   "execution_count": 32,
   "id": "0b6e9fe2",
   "metadata": {},
   "outputs": [
    {
     "data": {
      "image/png": "[encoded data removed]",
      "text/plain": [
       "<Figure size 432x288 with 1 Axes>"
      ]
     },
     "metadata": {
      "needs_background": "light"
     },
     "output_type": "display_data"
    }
   ],
   "source": [
    "plt.plot(hist_2.history['loss'])\n",
    "plt.plot(hist_2.history['val_loss'])\n",
    "plt.title('Model loss')\n",
    "plt.ylabel('Loss')\n",
    "plt.xlabel('Epoch')\n",
    "plt.legend(['Train', 'Val'], loc='upper right')\n",
    "plt.show()"
   ]
  },
  {
   "cell_type": "code",
   "execution_count": 35,
   "id": "a13930d4",
   "metadata": {},
   "outputs": [
    {
     "data": {
      "image/png": "[encoded data removed]",
      "text/plain": [
       "<Figure size 432x288 with 1 Axes>"
      ]
     },
     "metadata": {
      "needs_background": "light"
     },
     "output_type": "display_data"
    }
   ],
   "source": [
    "plt.plot(hist_2.history['accuracy'])\n",
    "plt.plot(hist_2.history['val_accuracy'])\n",
    "plt.title('Model accuracy')\n",
    "plt.ylabel('Accuracy')\n",
    "plt.xlabel('Epoch')\n",
    "plt.legend(['Train', 'Val'], loc='lower right')\n",
    "plt.show()"
   ]
  },
  {
   "cell_type": "code",
   "execution_count": 36,
   "id": "b80ad4ff",
   "metadata": {},
   "outputs": [],
   "source": [
    "from keras.layers import Dropout\n",
    "from keras import regularizers"
   ]
  },
  {
   "cell_type": "code",
   "execution_count": 37,
   "id": "01a0a8e6",
   "metadata": {},
   "outputs": [],
   "source": [
    "model_3 = Sequential([\n",
    "    Dense(1000, activation='relu', kernel_regularizer=regularizers.l2(0.01), input_shape=(10,)),\n",
    "    Dropout(0.3),\n",
    "    Dense(1000, activation='relu', kernel_regularizer=regularizers.l2(0.01)),\n",
    "    Dropout(0.3),\n",
    "    Dense(1000, activation='relu', kernel_regularizer=regularizers.l2(0.01)),\n",
    "    Dropout(0.3),\n",
    "    Dense(1000, activation='relu', kernel_regularizer=regularizers.l2(0.01)),\n",
    "    Dropout(0.3),\n",
    "    Dense(1, activation='sigmoid', kernel_regularizer=regularizers.l2(0.01)),\n",
    "])"
   ]
  },
  {
   "cell_type": "code",
   "execution_count": 38,
   "id": "771c86d8",
   "metadata": {},
   "outputs": [],
   "source": [
    "model_3.compile(optimizer='adam',\n",
    "              loss='binary_crossentropy',\n",
    "              metrics=['accuracy'])"
   ]
  },
  {
   "cell_type": "code",
   "execution_count": 39,
   "id": "ca04231f",
   "metadata": {},
   "outputs": [
    {
     "name": "stdout",
     "output_type": "stream",
     "text": [
      "Epoch 1/100\n",
      "32/32 [==============================] - 3s 101ms/step - loss: 14.2299 - accuracy: 0.6448 - val_loss: 3.8959 - val_accuracy: 0.7580\n",
      "Epoch 2/100\n",
      "32/32 [==============================] - 2s 78ms/step - loss: 1.6687 - accuracy: 0.8327 - val_loss: 0.7397 - val_accuracy: 0.8128\n",
      "Epoch 3/100\n",
      "32/32 [==============================] - 3s 82ms/step - loss: 0.6088 - accuracy: 0.8356 - val_loss: 0.5288 - val_accuracy: 0.8767\n",
      "Epoch 4/100\n",
      "32/32 [==============================] - 3s 83ms/step - loss: 0.5154 - accuracy: 0.8679 - val_loss: 0.4852 - val_accuracy: 0.9041\n",
      "Epoch 5/100\n",
      "32/32 [==============================] - 3s 90ms/step - loss: 0.4788 - accuracy: 0.8767 - val_loss: 0.4814 - val_accuracy: 0.8950\n",
      "Epoch 6/100\n",
      "32/32 [==============================] - 3s 96ms/step - loss: 0.4974 - accuracy: 0.8699 - val_loss: 0.4914 - val_accuracy: 0.8858\n",
      "Epoch 7/100\n",
      "32/32 [==============================] - 3s 85ms/step - loss: 0.4727 - accuracy: 0.8767 - val_loss: 0.4678 - val_accuracy: 0.9041\n",
      "Epoch 8/100\n",
      "32/32 [==============================] - 3s 95ms/step - loss: 0.4619 - accuracy: 0.8816 - val_loss: 0.4784 - val_accuracy: 0.8767\n",
      "Epoch 9/100\n",
      "32/32 [==============================] - 3s 81ms/step - loss: 0.5057 - accuracy: 0.8650 - val_loss: 0.4703 - val_accuracy: 0.8904\n",
      "Epoch 10/100\n",
      "32/32 [==============================] - 3s 78ms/step - loss: 0.4597 - accuracy: 0.8806 - val_loss: 0.4649 - val_accuracy: 0.8858\n",
      "Epoch 11/100\n",
      "32/32 [==============================] - 3s 88ms/step - loss: 0.4596 - accuracy: 0.8718 - val_loss: 0.4646 - val_accuracy: 0.8995\n",
      "Epoch 12/100\n",
      "32/32 [==============================] - 4s 118ms/step - loss: 0.4646 - accuracy: 0.8738 - val_loss: 0.4681 - val_accuracy: 0.8858\n",
      "Epoch 13/100\n",
      "32/32 [==============================] - 4s 117ms/step - loss: 0.4450 - accuracy: 0.8924 - val_loss: 0.4518 - val_accuracy: 0.8995\n",
      "Epoch 14/100\n",
      "32/32 [==============================] - 4s 128ms/step - loss: 0.4488 - accuracy: 0.8767 - val_loss: 0.4511 - val_accuracy: 0.8995\n",
      "Epoch 15/100\n",
      "32/32 [==============================] - 4s 113ms/step - loss: 0.4597 - accuracy: 0.8689 - val_loss: 0.4819 - val_accuracy: 0.8858\n",
      "Epoch 16/100\n",
      "32/32 [==============================] - 4s 115ms/step - loss: 0.4441 - accuracy: 0.8767 - val_loss: 0.4543 - val_accuracy: 0.8950\n",
      "Epoch 17/100\n",
      "32/32 [==============================] - 3s 105ms/step - loss: 0.4437 - accuracy: 0.8787 - val_loss: 0.5037 - val_accuracy: 0.8630\n",
      "Epoch 18/100\n",
      "32/32 [==============================] - 4s 110ms/step - loss: 0.4718 - accuracy: 0.8728 - val_loss: 0.4620 - val_accuracy: 0.8995\n",
      "Epoch 19/100\n",
      "32/32 [==============================] - 4s 118ms/step - loss: 0.4460 - accuracy: 0.8699 - val_loss: 0.4713 - val_accuracy: 0.8767\n",
      "Epoch 20/100\n",
      "32/32 [==============================] - 4s 124ms/step - loss: 0.4356 - accuracy: 0.8875 - val_loss: 0.4733 - val_accuracy: 0.8813\n",
      "Epoch 21/100\n",
      "32/32 [==============================] - 4s 119ms/step - loss: 0.4504 - accuracy: 0.8806 - val_loss: 0.5007 - val_accuracy: 0.8493\n",
      "Epoch 22/100\n",
      "32/32 [==============================] - 4s 116ms/step - loss: 0.4393 - accuracy: 0.8777 - val_loss: 0.4573 - val_accuracy: 0.9132\n",
      "Epoch 23/100\n",
      "32/32 [==============================] - 4s 117ms/step - loss: 0.4506 - accuracy: 0.8689 - val_loss: 0.5066 - val_accuracy: 0.8539\n",
      "Epoch 24/100\n",
      "32/32 [==============================] - 4s 113ms/step - loss: 0.4344 - accuracy: 0.8875 - val_loss: 0.4471 - val_accuracy: 0.9041\n",
      "Epoch 25/100\n",
      "32/32 [==============================] - 4s 118ms/step - loss: 0.4484 - accuracy: 0.8767 - val_loss: 0.4541 - val_accuracy: 0.9041\n",
      "Epoch 26/100\n",
      "32/32 [==============================] - 4s 129ms/step - loss: 0.4397 - accuracy: 0.8806 - val_loss: 0.4904 - val_accuracy: 0.8676\n",
      "Epoch 27/100\n",
      "32/32 [==============================] - 4s 127ms/step - loss: 0.4617 - accuracy: 0.8679 - val_loss: 0.4559 - val_accuracy: 0.8995\n",
      "Epoch 28/100\n",
      "32/32 [==============================] - 4s 121ms/step - loss: 0.4346 - accuracy: 0.8885 - val_loss: 0.4584 - val_accuracy: 0.8858\n",
      "Epoch 29/100\n",
      "32/32 [==============================] - 3s 102ms/step - loss: 0.4347 - accuracy: 0.8787 - val_loss: 0.4819 - val_accuracy: 0.8676\n",
      "Epoch 30/100\n",
      "32/32 [==============================] - 3s 99ms/step - loss: 0.4577 - accuracy: 0.8767 - val_loss: 0.4490 - val_accuracy: 0.9087\n",
      "Epoch 31/100\n",
      "32/32 [==============================] - 3s 100ms/step - loss: 0.4413 - accuracy: 0.8728 - val_loss: 0.4970 - val_accuracy: 0.8493\n",
      "Epoch 32/100\n",
      "32/32 [==============================] - 4s 113ms/step - loss: 0.4324 - accuracy: 0.8777 - val_loss: 0.4472 - val_accuracy: 0.8995\n",
      "Epoch 33/100\n",
      "32/32 [==============================] - 4s 111ms/step - loss: 0.4270 - accuracy: 0.8885 - val_loss: 0.4733 - val_accuracy: 0.8813\n",
      "Epoch 34/100\n",
      "32/32 [==============================] - 3s 99ms/step - loss: 0.4411 - accuracy: 0.8816 - val_loss: 0.4491 - val_accuracy: 0.9041\n",
      "Epoch 35/100\n",
      "32/32 [==============================] - 4s 112ms/step - loss: 0.4423 - accuracy: 0.8738 - val_loss: 0.4818 - val_accuracy: 0.8676\n",
      "Epoch 36/100\n",
      "32/32 [==============================] - 4s 135ms/step - loss: 0.4397 - accuracy: 0.8836 - val_loss: 0.4521 - val_accuracy: 0.8904\n",
      "Epoch 37/100\n",
      "32/32 [==============================] - 4s 122ms/step - loss: 0.4298 - accuracy: 0.8845 - val_loss: 0.4874 - val_accuracy: 0.8767\n",
      "Epoch 38/100\n",
      "32/32 [==============================] - 4s 123ms/step - loss: 0.4378 - accuracy: 0.8943 - val_loss: 0.4565 - val_accuracy: 0.8813\n",
      "Epoch 39/100\n",
      "32/32 [==============================] - 4s 118ms/step - loss: 0.4379 - accuracy: 0.8796 - val_loss: 0.4471 - val_accuracy: 0.8995\n",
      "Epoch 40/100\n",
      "32/32 [==============================] - 4s 120ms/step - loss: 0.4128 - accuracy: 0.8973 - val_loss: 0.4485 - val_accuracy: 0.8995\n",
      "Epoch 41/100\n",
      "32/32 [==============================] - 4s 120ms/step - loss: 0.4305 - accuracy: 0.8796 - val_loss: 0.4792 - val_accuracy: 0.8813\n",
      "Epoch 42/100\n",
      "32/32 [==============================] - 4s 115ms/step - loss: 0.4327 - accuracy: 0.8806 - val_loss: 0.4557 - val_accuracy: 0.8904\n",
      "Epoch 43/100\n",
      "32/32 [==============================] - 4s 119ms/step - loss: 0.4641 - accuracy: 0.8718 - val_loss: 0.4538 - val_accuracy: 0.8995\n",
      "Epoch 44/100\n",
      "32/32 [==============================] - 4s 140ms/step - loss: 0.4311 - accuracy: 0.8767 - val_loss: 0.4551 - val_accuracy: 0.8904\n",
      "Epoch 45/100\n",
      "32/32 [==============================] - 4s 131ms/step - loss: 0.4206 - accuracy: 0.8875 - val_loss: 0.4595 - val_accuracy: 0.8950\n",
      "Epoch 46/100\n",
      "32/32 [==============================] - 4s 115ms/step - loss: 0.4277 - accuracy: 0.8865 - val_loss: 0.4571 - val_accuracy: 0.8995\n",
      "Epoch 47/100\n",
      "32/32 [==============================] - 5s 172ms/step - loss: 0.4452 - accuracy: 0.8748 - val_loss: 0.4556 - val_accuracy: 0.8904\n",
      "Epoch 48/100\n",
      "32/32 [==============================] - 5s 149ms/step - loss: 0.4305 - accuracy: 0.8728 - val_loss: 0.4542 - val_accuracy: 0.8950\n",
      "Epoch 49/100\n",
      "32/32 [==============================] - 7s 215ms/step - loss: 0.4511 - accuracy: 0.8748 - val_loss: 0.4467 - val_accuracy: 0.8950\n",
      "Epoch 50/100\n",
      "32/32 [==============================] - 9s 267ms/step - loss: 0.4239 - accuracy: 0.8845 - val_loss: 0.4482 - val_accuracy: 0.9041\n",
      "Epoch 51/100\n",
      "32/32 [==============================] - 7s 216ms/step - loss: 0.4325 - accuracy: 0.8806 - val_loss: 0.4750 - val_accuracy: 0.8904\n",
      "Epoch 52/100\n",
      "32/32 [==============================] - 9s 285ms/step - loss: 0.4442 - accuracy: 0.8806 - val_loss: 0.4774 - val_accuracy: 0.8767\n",
      "Epoch 53/100\n",
      "32/32 [==============================] - 13s 396ms/step - loss: 0.4438 - accuracy: 0.8689 - val_loss: 0.4539 - val_accuracy: 0.8995\n",
      "Epoch 54/100\n",
      "32/32 [==============================] - 11s 330ms/step - loss: 0.4295 - accuracy: 0.8826 - val_loss: 0.4498 - val_accuracy: 0.8950\n",
      "Epoch 55/100\n",
      "32/32 [==============================] - 9s 294ms/step - loss: 0.4255 - accuracy: 0.8787 - val_loss: 0.4507 - val_accuracy: 0.8995\n",
      "Epoch 56/100\n",
      "32/32 [==============================] - 9s 278ms/step - loss: 0.4224 - accuracy: 0.8826 - val_loss: 0.4527 - val_accuracy: 0.9041\n",
      "Epoch 57/100\n",
      "32/32 [==============================] - 9s 276ms/step - loss: 0.4269 - accuracy: 0.8894 - val_loss: 0.4504 - val_accuracy: 0.9041\n",
      "Epoch 58/100\n",
      "32/32 [==============================] - 10s 307ms/step - loss: 0.4281 - accuracy: 0.8855 - val_loss: 0.4824 - val_accuracy: 0.8676\n",
      "Epoch 59/100\n",
      "32/32 [==============================] - 469s 15s/step - loss: 0.4328 - accuracy: 0.8904 - val_loss: 0.4490 - val_accuracy: 0.8950TA: 1:18 - loss: 0.4432 - accuracy: 0.88 - ETA: 1:23 - loss: 0.4400 - accuracy - ETA: 1:27 - loss: 0.4242 - accuracy: 0.89 - ETA: 1:25 - loss: 0.4260 - accuracy: 0.89 - ETA: 1:19 - loss: 0.4305 - accuracy: 0. - ETA: 1:03 - loss: 0.4349 - accuracy: 0.89 - ETA: 53s - loss: 0.4373 - accuracy: 0.889 - ETA: 28s - loss: 0.4343 - accuracy: 0.\n",
      "Epoch 63/100\n",
      "32/32 [==============================] - 59s 2s/step - loss: 0.4116 - accuracy: 0.8855 - val_loss: 0.4980 - val_accuracy: 0.8493\n",
      "Epoch 64/100\n",
      "32/32 [==============================] - 27s 847ms/step - loss: 0.4660 - accuracy: 0.8640 - val_loss: 0.4616 - val_accuracy: 0.8904\n",
      "Epoch 65/100\n",
      "32/32 [==============================] - 20s 613ms/step - loss: 0.4335 - accuracy: 0.8845 - val_loss: 0.4478 - val_accuracy: 0.9087\n",
      "Epoch 66/100\n",
      "32/32 [==============================] - 14s 433ms/step - loss: 0.4246 - accuracy: 0.8914 - val_loss: 0.4486 - val_accuracy: 0.9041\n",
      "Epoch 67/100\n",
      "32/32 [==============================] - 8s 256ms/step - loss: 0.4283 - accuracy: 0.8757 - val_loss: 0.4548 - val_accuracy: 0.8904\n",
      "Epoch 68/100\n",
      "32/32 [==============================] - 8s 246ms/step - loss: 0.4264 - accuracy: 0.8845 - val_loss: 0.4538 - val_accuracy: 0.8995\n",
      "Epoch 69/100\n",
      "32/32 [==============================] - 7s 228ms/step - loss: 0.4295 - accuracy: 0.8777 - val_loss: 0.4537 - val_accuracy: 0.8995\n",
      "Epoch 70/100\n",
      "32/32 [==============================] - 6s 196ms/step - loss: 0.4210 - accuracy: 0.8885 - val_loss: 0.4540 - val_accuracy: 0.8995\n",
      "Epoch 71/100\n",
      "32/32 [==============================] - 6s 175ms/step - loss: 0.4349 - accuracy: 0.8855 - val_loss: 0.4575 - val_accuracy: 0.8904\n",
      "Epoch 72/100\n",
      "32/32 [==============================] - 4s 137ms/step - loss: 0.4308 - accuracy: 0.8885 - val_loss: 0.4552 - val_accuracy: 0.8950\n",
      "Epoch 73/100\n",
      "32/32 [==============================] - 4s 131ms/step - loss: 0.4197 - accuracy: 0.8904 - val_loss: 0.4539 - val_accuracy: 0.9041\n",
      "Epoch 74/100\n",
      "32/32 [==============================] - 5s 146ms/step - loss: 0.4202 - accuracy: 0.8865 - val_loss: 0.5037 - val_accuracy: 0.8721\n",
      "Epoch 75/100\n",
      "32/32 [==============================] - 6s 188ms/step - loss: 0.4292 - accuracy: 0.8836 - val_loss: 0.4616 - val_accuracy: 0.8950\n",
      "Epoch 76/100\n",
      "32/32 [==============================] - 6s 173ms/step - loss: 0.4241 - accuracy: 0.8924 - val_loss: 0.4527 - val_accuracy: 0.8950\n",
      "Epoch 77/100\n",
      "32/32 [==============================] - 4s 136ms/step - loss: 0.4426 - accuracy: 0.8718 - val_loss: 0.4589 - val_accuracy: 0.8858\n",
      "Epoch 78/100\n",
      "32/32 [==============================] - 5s 147ms/step - loss: 0.4249 - accuracy: 0.8836 - val_loss: 0.4779 - val_accuracy: 0.8904\n",
      "Epoch 79/100\n",
      "32/32 [==============================] - 5s 163ms/step - loss: 0.4300 - accuracy: 0.8826 - val_loss: 0.5076 - val_accuracy: 0.8630\n",
      "Epoch 80/100\n",
      "32/32 [==============================] - 4s 123ms/step - loss: 0.4599 - accuracy: 0.8601 - val_loss: 0.4829 - val_accuracy: 0.8767\n",
      "Epoch 81/100\n",
      "32/32 [==============================] - 4s 115ms/step - loss: 0.4425 - accuracy: 0.8806 - val_loss: 0.4524 - val_accuracy: 0.8950\n",
      "Epoch 82/100\n",
      "32/32 [==============================] - 4s 116ms/step - loss: 0.4364 - accuracy: 0.8699 - val_loss: 0.4876 - val_accuracy: 0.8539\n",
      "Epoch 83/100\n",
      "32/32 [==============================] - 3s 105ms/step - loss: 0.4251 - accuracy: 0.8845 - val_loss: 0.4504 - val_accuracy: 0.8995\n",
      "Epoch 84/100\n",
      "32/32 [==============================] - 3s 107ms/step - loss: 0.4238 - accuracy: 0.8865 - val_loss: 0.4531 - val_accuracy: 0.8950\n",
      "Epoch 85/100\n",
      "32/32 [==============================] - 3s 108ms/step - loss: 0.4323 - accuracy: 0.8718 - val_loss: 0.4671 - val_accuracy: 0.8813\n",
      "Epoch 86/100\n",
      "32/32 [==============================] - 3s 105ms/step - loss: 0.4225 - accuracy: 0.8865 - val_loss: 0.4509 - val_accuracy: 0.8995\n",
      "Epoch 87/100\n",
      "32/32 [==============================] - 3s 104ms/step - loss: 0.4284 - accuracy: 0.8845 - val_loss: 0.4627 - val_accuracy: 0.8813\n",
      "Epoch 88/100\n",
      "32/32 [==============================] - 3s 103ms/step - loss: 0.4180 - accuracy: 0.8787 - val_loss: 0.4504 - val_accuracy: 0.9087\n",
      "Epoch 89/100\n",
      "32/32 [==============================] - 3s 100ms/step - loss: 0.4304 - accuracy: 0.8787 - val_loss: 0.5043 - val_accuracy: 0.8767\n",
      "Epoch 90/100\n",
      "32/32 [==============================] - 3s 97ms/step - loss: 0.4244 - accuracy: 0.8845 - val_loss: 0.4594 - val_accuracy: 0.8995\n",
      "Epoch 91/100\n",
      "32/32 [==============================] - 4s 117ms/step - loss: 0.4131 - accuracy: 0.8894 - val_loss: 0.4576 - val_accuracy: 0.8950\n",
      "Epoch 92/100\n",
      "32/32 [==============================] - 4s 128ms/step - loss: 0.4339 - accuracy: 0.8738 - val_loss: 0.5047 - val_accuracy: 0.8721\n",
      "Epoch 93/100\n",
      "32/32 [==============================] - 4s 130ms/step - loss: 0.4449 - accuracy: 0.8679 - val_loss: 0.4562 - val_accuracy: 0.8950\n",
      "Epoch 94/100\n",
      "32/32 [==============================] - 3s 109ms/step - loss: 0.4267 - accuracy: 0.8885 - val_loss: 0.5040 - val_accuracy: 0.8721\n",
      "Epoch 95/100\n",
      "32/32 [==============================] - 4s 116ms/step - loss: 0.4459 - accuracy: 0.8855 - val_loss: 0.4663 - val_accuracy: 0.8950\n",
      "Epoch 96/100\n",
      "32/32 [==============================] - 4s 123ms/step - loss: 0.4337 - accuracy: 0.8885 - val_loss: 0.4515 - val_accuracy: 0.9041\n",
      "Epoch 97/100\n",
      "32/32 [==============================] - 4s 116ms/step - loss: 0.4219 - accuracy: 0.8875 - val_loss: 0.4534 - val_accuracy: 0.8995\n",
      "Epoch 98/100\n",
      "32/32 [==============================] - 3s 95ms/step - loss: 0.4231 - accuracy: 0.8816 - val_loss: 0.4593 - val_accuracy: 0.8904\n",
      "Epoch 99/100\n",
      "32/32 [==============================] - 3s 97ms/step - loss: 0.4289 - accuracy: 0.8787 - val_loss: 0.5126 - val_accuracy: 0.8493\n",
      "Epoch 100/100\n",
      "32/32 [==============================] - 3s 103ms/step - loss: 0.4341 - accuracy: 0.8836 - val_loss: 0.4603 - val_accuracy: 0.8904\n"
     ]
    }
   ],
   "source": [
    "hist_3 = model_3.fit(X_train, Y_train,\n",
    "          batch_size=32, epochs=100,\n",
    "          validation_data=(X_val, Y_val))"
   ]
  },
  {
   "cell_type": "code",
   "execution_count": 40,
   "id": "ad644daa",
   "metadata": {},
   "outputs": [
    {
     "data": {
      "image/png": "[encoded data removed]",
      "text/plain": [
       "<Figure size 432x288 with 1 Axes>"
      ]
     },
     "metadata": {
      "needs_background": "light"
     },
     "output_type": "display_data"
    }
   ],
   "source": [
    "plt.plot(hist_3.history['loss'])\n",
    "plt.plot(hist_3.history['val_loss'])\n",
    "plt.title('Model loss')\n",
    "plt.ylabel('Loss')\n",
    "plt.xlabel('Epoch')\n",
    "plt.legend(['Train', 'Val'], loc='upper right')\n",
    "plt.ylim(top=1.2, bottom=0)\n",
    "plt.show()"
   ]
  },
  {
   "cell_type": "code",
   "execution_count": 41,
   "id": "d64ddcde",
   "metadata": {},
   "outputs": [
    {
     "data": {
      "image/png": "[encoded data removed]",
      "text/plain": [
       "<Figure size 432x288 with 1 Axes>"
      ]
     },
     "metadata": {
      "needs_background": "light"
     },
     "output_type": "display_data"
    }
   ],
   "source": [
    "plt.plot(hist_3.history['accuracy'])\n",
    "plt.plot(hist_3.history['val_accuracy'])\n",
    "plt.title('Model accuracy')\n",
    "plt.ylabel('Accuracy')\n",
    "plt.xlabel('Epoch')\n",
    "plt.legend(['Train', 'Val'], loc='lower right')\n",
    "plt.show()"
   ]
  },
  {
   "cell_type": "code",
   "execution_count": 42,
   "id": "d95cedce",
   "metadata": {},
   "outputs": [
    {
     "name": "stdout",
     "output_type": "stream",
     "text": [
      "Downloading data from https://www.cs.toronto.edu/~kriz/cifar-10-python.tar.gz\n",
      "170500096/170498071 [==============================] - 17s 0us/step\n"
     ]
    }
   ],
   "source": [
    "from keras.datasets import cifar10\n",
    "(x_train, y_train), (x_test, y_test) = cifar10.load_data()"
   ]
  },
  {
   "cell_type": "code",
   "execution_count": 43,
   "id": "894a42b6",
   "metadata": {},
   "outputs": [
    {
     "name": "stdout",
     "output_type": "stream",
     "text": [
      "x_train shape: (50000, 32, 32, 3)\n"
     ]
    }
   ],
   "source": [
    "print('x_train shape:', x_train.shape)"
   ]
  },
  {
   "cell_type": "code",
   "execution_count": 44,
   "id": "17194ef1",
   "metadata": {},
   "outputs": [
    {
     "name": "stdout",
     "output_type": "stream",
     "text": [
      "y_train shape: (50000, 1)\n"
     ]
    }
   ],
   "source": [
    "print('y_train shape:', y_train.shape)"
   ]
  },
  {
   "cell_type": "code",
   "execution_count": 45,
   "id": "ddfdb0cc",
   "metadata": {},
   "outputs": [
    {
     "name": "stdout",
     "output_type": "stream",
     "text": [
      "[[[ 59  62  63]\n",
      "  [ 43  46  45]\n",
      "  [ 50  48  43]\n",
      "  ...\n",
      "  [158 132 108]\n",
      "  [152 125 102]\n",
      "  [148 124 103]]\n",
      "\n",
      " [[ 16  20  20]\n",
      "  [  0   0   0]\n",
      "  [ 18   8   0]\n",
      "  ...\n",
      "  [123  88  55]\n",
      "  [119  83  50]\n",
      "  [122  87  57]]\n",
      "\n",
      " [[ 25  24  21]\n",
      "  [ 16   7   0]\n",
      "  [ 49  27   8]\n",
      "  ...\n",
      "  [118  84  50]\n",
      "  [120  84  50]\n",
      "  [109  73  42]]\n",
      "\n",
      " ...\n",
      "\n",
      " [[208 170  96]\n",
      "  [201 153  34]\n",
      "  [198 161  26]\n",
      "  ...\n",
      "  [160 133  70]\n",
      "  [ 56  31   7]\n",
      "  [ 53  34  20]]\n",
      "\n",
      " [[180 139  96]\n",
      "  [173 123  42]\n",
      "  [186 144  30]\n",
      "  ...\n",
      "  [184 148  94]\n",
      "  [ 97  62  34]\n",
      "  [ 83  53  34]]\n",
      "\n",
      " [[177 144 116]\n",
      "  [168 129  94]\n",
      "  [179 142  87]\n",
      "  ...\n",
      "  [216 184 140]\n",
      "  [151 118  84]\n",
      "  [123  92  72]]]\n"
     ]
    }
   ],
   "source": [
    "print(x_train[0])"
   ]
  },
  {
   "cell_type": "code",
   "execution_count": 46,
   "id": "e559e929",
   "metadata": {},
   "outputs": [
    {
     "data": {
      "image/png": "[encoded data removed]",
      "text/plain": [
       "<Figure size 432x288 with 1 Axes>"
      ]
     },
     "metadata": {
      "needs_background": "light"
     },
     "output_type": "display_data"
    }
   ],
   "source": [
    "import matplotlib.pyplot as plt\n",
    "%matplotlib inline\n",
    "img = plt.imshow(x_train[0])"
   ]
  },
  {
   "cell_type": "code",
   "execution_count": 47,
   "id": "fbb931c5",
   "metadata": {},
   "outputs": [
    {
     "name": "stdout",
     "output_type": "stream",
     "text": [
      "The label is: [6]\n"
     ]
    }
   ],
   "source": [
    "print('The label is:', y_train[0])"
   ]
  },
  {
   "cell_type": "code",
   "execution_count": 48,
   "id": "49c3253d",
   "metadata": {},
   "outputs": [
    {
     "data": {
      "image/png": "[encoded data removed]",
      "text/plain": [
       "<Figure size 432x288 with 1 Axes>"
      ]
     },
     "metadata": {
      "needs_background": "light"
     },
     "output_type": "display_data"
    }
   ],
   "source": [
    "img = plt.imshow(x_train[1])"
   ]
  },
  {
   "cell_type": "code",
   "execution_count": 49,
   "id": "0d9bc4c9",
   "metadata": {},
   "outputs": [
    {
     "name": "stdout",
     "output_type": "stream",
     "text": [
      "The label is: [9]\n"
     ]
    }
   ],
   "source": [
    "print('The label is:', y_train[1])"
   ]
  },
  {
   "cell_type": "code",
   "execution_count": 50,
   "id": "1c8d914d",
   "metadata": {},
   "outputs": [],
   "source": [
    "import keras\n",
    "y_train_one_hot = keras.utils.to_categorical(y_train, 10)\n",
    "y_test_one_hot = keras.utils.to_categorical(y_test, 10)"
   ]
  },
  {
   "cell_type": "code",
   "execution_count": 51,
   "id": "53cf8f34",
   "metadata": {},
   "outputs": [
    {
     "name": "stdout",
     "output_type": "stream",
     "text": [
      "The one hot label is: [0. 0. 0. 0. 0. 0. 0. 0. 0. 1.]\n"
     ]
    }
   ],
   "source": [
    "print('The one hot label is:', y_train_one_hot[1])"
   ]
  },
  {
   "cell_type": "code",
   "execution_count": 52,
   "id": "14c21836",
   "metadata": {},
   "outputs": [],
   "source": [
    "x_train = x_train.astype('float32')\n",
    "x_test = x_test.astype('float32')\n",
    "x_train = x_train / 255\n",
    "x_test = x_test / 255"
   ]
  },
  {
   "cell_type": "code",
   "execution_count": 53,
   "id": "bf68cae5",
   "metadata": {},
   "outputs": [
    {
     "data": {
      "text/plain": [
       "array([[[0.23137255, 0.24313726, 0.24705882],\n",
       "        [0.16862746, 0.18039216, 0.1764706 ],\n",
       "        [0.19607843, 0.1882353 , 0.16862746],\n",
       "        ...,\n",
       "        [0.61960787, 0.5176471 , 0.42352942],\n",
       "        [0.59607846, 0.49019608, 0.4       ],\n",
       "        [0.5803922 , 0.4862745 , 0.40392157]],\n",
       "\n",
       "       [[0.0627451 , 0.07843138, 0.07843138],\n",
       "        [0.        , 0.        , 0.        ],\n",
       "        [0.07058824, 0.03137255, 0.        ],\n",
       "        ...,\n",
       "        [0.48235294, 0.34509805, 0.21568628],\n",
       "        [0.46666667, 0.3254902 , 0.19607843],\n",
       "        [0.47843137, 0.34117648, 0.22352941]],\n",
       "\n",
       "       [[0.09803922, 0.09411765, 0.08235294],\n",
       "        [0.0627451 , 0.02745098, 0.        ],\n",
       "        [0.19215687, 0.10588235, 0.03137255],\n",
       "        ...,\n",
       "        [0.4627451 , 0.32941177, 0.19607843],\n",
       "        [0.47058824, 0.32941177, 0.19607843],\n",
       "        [0.42745098, 0.28627452, 0.16470589]],\n",
       "\n",
       "       ...,\n",
       "\n",
       "       [[0.8156863 , 0.6666667 , 0.3764706 ],\n",
       "        [0.7882353 , 0.6       , 0.13333334],\n",
       "        [0.7764706 , 0.6313726 , 0.10196079],\n",
       "        ...,\n",
       "        [0.627451  , 0.52156866, 0.27450982],\n",
       "        [0.21960784, 0.12156863, 0.02745098],\n",
       "        [0.20784314, 0.13333334, 0.07843138]],\n",
       "\n",
       "       [[0.7058824 , 0.54509807, 0.3764706 ],\n",
       "        [0.6784314 , 0.48235294, 0.16470589],\n",
       "        [0.7294118 , 0.5647059 , 0.11764706],\n",
       "        ...,\n",
       "        [0.72156864, 0.5803922 , 0.36862746],\n",
       "        [0.38039216, 0.24313726, 0.13333334],\n",
       "        [0.3254902 , 0.20784314, 0.13333334]],\n",
       "\n",
       "       [[0.69411767, 0.5647059 , 0.45490196],\n",
       "        [0.65882355, 0.5058824 , 0.36862746],\n",
       "        [0.7019608 , 0.5568628 , 0.34117648],\n",
       "        ...,\n",
       "        [0.84705883, 0.72156864, 0.54901963],\n",
       "        [0.5921569 , 0.4627451 , 0.32941177],\n",
       "        [0.48235294, 0.36078432, 0.28235295]]], dtype=float32)"
      ]
     },
     "execution_count": 53,
     "metadata": {},
     "output_type": "execute_result"
    }
   ],
   "source": [
    "x_train[0]"
   ]
  },
  {
   "cell_type": "code",
   "execution_count": 54,
   "id": "fb85a5c6",
   "metadata": {},
   "outputs": [],
   "source": [
    "from keras.models import Sequential\n",
    "from keras.layers import Dense, Dropout, Flatten, Conv2D, MaxPooling2D"
   ]
  },
  {
   "cell_type": "code",
   "execution_count": 55,
   "id": "a48edf88",
   "metadata": {},
   "outputs": [],
   "source": [
    "model = Sequential()"
   ]
  },
  {
   "cell_type": "code",
   "execution_count": 56,
   "id": "f8e756f9",
   "metadata": {},
   "outputs": [],
   "source": [
    "model.add(Conv2D(32, (3, 3), activation='relu', padding='same', input_shape=(32,32,3)))"
   ]
  },
  {
   "cell_type": "code",
   "execution_count": 57,
   "id": "5aa1db62",
   "metadata": {},
   "outputs": [],
   "source": [
    "model.add(Conv2D(32, (3, 3), activation='relu', padding='same'))"
   ]
  },
  {
   "cell_type": "code",
   "execution_count": 58,
   "id": "4fea7d3d",
   "metadata": {},
   "outputs": [],
   "source": [
    "model.add(MaxPooling2D(pool_size=(2, 2)))"
   ]
  },
  {
   "cell_type": "code",
   "execution_count": 59,
   "id": "8edcd912",
   "metadata": {},
   "outputs": [],
   "source": [
    "model.add(Dropout(0.25))"
   ]
  },
  {
   "cell_type": "code",
   "execution_count": 60,
   "id": "762a8fd5",
   "metadata": {},
   "outputs": [],
   "source": [
    "model.add(Conv2D(64, (3, 3), activation='relu', padding='same'))\n",
    "model.add(Conv2D(64, (3, 3), activation='relu', padding='same'))\n",
    "model.add(MaxPooling2D(pool_size=(2, 2)))\n",
    "model.add(Dropout(0.25))"
   ]
  },
  {
   "cell_type": "code",
   "execution_count": 61,
   "id": "61b7e823",
   "metadata": {},
   "outputs": [],
   "source": [
    "model.add(Flatten())"
   ]
  },
  {
   "cell_type": "code",
   "execution_count": 62,
   "id": "073d2c4e",
   "metadata": {},
   "outputs": [],
   "source": [
    "model.add(Dense(512, activation='relu'))"
   ]
  },
  {
   "cell_type": "code",
   "execution_count": 63,
   "id": "5f169fc9",
   "metadata": {},
   "outputs": [],
   "source": [
    "model.add(Dropout(0.5))"
   ]
  },
  {
   "cell_type": "code",
   "execution_count": 64,
   "id": "083da2de",
   "metadata": {},
   "outputs": [],
   "source": [
    "model.add(Dense(10, activation='softmax'))"
   ]
  },
  {
   "cell_type": "code",
   "execution_count": 65,
   "id": "0a8da916",
   "metadata": {},
   "outputs": [
    {
     "name": "stdout",
     "output_type": "stream",
     "text": [
      "Model: \"sequential_3\"\n",
      "_________________________________________________________________\n",
      "Layer (type)                 Output Shape              Param #   \n",
      "=================================================================\n",
      "conv2d (Conv2D)              (None, 32, 32, 32)        896       \n",
      "_________________________________________________________________\n",
      "conv2d_1 (Conv2D)            (None, 32, 32, 32)        9248      \n",
      "_________________________________________________________________\n",
      "max_pooling2d (MaxPooling2D) (None, 16, 16, 32)        0         \n",
      "_________________________________________________________________\n",
      "dropout_4 (Dropout)          (None, 16, 16, 32)        0         \n",
      "_________________________________________________________________\n",
      "conv2d_2 (Conv2D)            (None, 16, 16, 64)        18496     \n",
      "_________________________________________________________________\n",
      "conv2d_3 (Conv2D)            (None, 16, 16, 64)        36928     \n",
      "_________________________________________________________________\n",
      "max_pooling2d_1 (MaxPooling2 (None, 8, 8, 64)          0         \n",
      "_________________________________________________________________\n",
      "dropout_5 (Dropout)          (None, 8, 8, 64)          0         \n",
      "_________________________________________________________________\n",
      "flatten (Flatten)            (None, 4096)              0         \n",
      "_________________________________________________________________\n",
      "dense_13 (Dense)             (None, 512)               2097664   \n",
      "_________________________________________________________________\n",
      "dropout_6 (Dropout)          (None, 512)               0         \n",
      "_________________________________________________________________\n",
      "dense_14 (Dense)             (None, 10)                5130      \n",
      "=================================================================\n",
      "Total params: 2,168,362\n",
      "Trainable params: 2,168,362\n",
      "Non-trainable params: 0\n",
      "_________________________________________________________________\n"
     ]
    }
   ],
   "source": [
    "model.summary()"
   ]
  },
  {
   "cell_type": "code",
   "execution_count": 66,
   "id": "91203d7f",
   "metadata": {},
   "outputs": [],
   "source": [
    "model.compile(loss='categorical_crossentropy',\n",
    "              optimizer='adam',\n",
    "              metrics=['accuracy'])"
   ]
  },
  {
   "cell_type": "code",
   "execution_count": 67,
   "id": "1f77c4d0",
   "metadata": {},
   "outputs": [
    {
     "name": "stdout",
     "output_type": "stream",
     "text": [
      "Epoch 1/20\n",
      "1250/1250 [==============================] - 288s 231ms/step - loss: 1.5234 - accuracy: 0.4448 - val_loss: 1.1020 - val_accuracy: 0.6011\n",
      "Epoch 2/20\n",
      "1250/1250 [==============================] - 227s 182ms/step - loss: 1.1025 - accuracy: 0.6069 - val_loss: 0.9536 - val_accuracy: 0.6616\n",
      "Epoch 3/20\n",
      "1250/1250 [==============================] - 261s 209ms/step - loss: 0.9468 - accuracy: 0.6647 - val_loss: 0.8887 - val_accuracy: 0.6896\n",
      "Epoch 4/20\n",
      "1250/1250 [==============================] - 260s 208ms/step - loss: 0.8546 - accuracy: 0.6975 - val_loss: 0.7872 - val_accuracy: 0.7239\n",
      "Epoch 5/20\n",
      "1250/1250 [==============================] - 458s 366ms/step - loss: 0.7829 - accuracy: 0.7261 - val_loss: 0.7679 - val_accuracy: 0.7316\n",
      "Epoch 6/20\n",
      "1250/1250 [==============================] - 723s 578ms/step - loss: 0.7336 - accuracy: 0.7448 - val_loss: 0.7373 - val_accuracy: 0.7452\n",
      "Epoch 7/20\n",
      "1250/1250 [==============================] - 391s 312ms/step - loss: 0.6849 - accuracy: 0.7599 - val_loss: 0.7349 - val_accuracy: 0.7460\n",
      "Epoch 8/20\n",
      "1250/1250 [==============================] - 215s 172ms/step - loss: 0.6538 - accuracy: 0.7682 - val_loss: 0.7269 - val_accuracy: 0.7478\n",
      "Epoch 9/20\n",
      "1250/1250 [==============================] - 263s 210ms/step - loss: 0.6120 - accuracy: 0.7858 - val_loss: 0.7195 - val_accuracy: 0.7534\n",
      "Epoch 10/20\n",
      "1250/1250 [==============================] - 479s 383ms/step - loss: 0.5803 - accuracy: 0.7949 - val_loss: 0.6896 - val_accuracy: 0.7641\n",
      "Epoch 11/20\n",
      "1250/1250 [==============================] - 536s 429ms/step - loss: 0.5575 - accuracy: 0.8023 - val_loss: 0.6970 - val_accuracy: 0.7628\n",
      "Epoch 12/20\n",
      "1250/1250 [==============================] - 399s 319ms/step - loss: 0.5372 - accuracy: 0.8098 - val_loss: 0.7117 - val_accuracy: 0.7699\n",
      "Epoch 13/20\n",
      "1250/1250 [==============================] - 251s 200ms/step - loss: 0.5024 - accuracy: 0.8211 - val_loss: 0.7016 - val_accuracy: 0.7729\n",
      "Epoch 14/20\n",
      "1250/1250 [==============================] - 408s 327ms/step - loss: 0.4905 - accuracy: 0.8266 - val_loss: 0.7004 - val_accuracy: 0.7728\n",
      "Epoch 15/20\n",
      "1250/1250 [==============================] - 400s 320ms/step - loss: 0.4692 - accuracy: 0.8356 - val_loss: 0.6965 - val_accuracy: 0.7735\n",
      "Epoch 16/20\n",
      "1250/1250 [==============================] - 222s 177ms/step - loss: 0.4569 - accuracy: 0.8389 - val_loss: 0.7116 - val_accuracy: 0.7756\n",
      "Epoch 17/20\n",
      "1250/1250 [==============================] - 287s 229ms/step - loss: 0.4344 - accuracy: 0.8452 - val_loss: 0.6927 - val_accuracy: 0.7753\n",
      "Epoch 18/20\n",
      "1250/1250 [==============================] - 632s 505ms/step - loss: 0.4323 - accuracy: 0.8463 - val_loss: 0.7025 - val_accuracy: 0.7805\n",
      "Epoch 19/20\n",
      "1250/1250 [==============================] - 444s 355ms/step - loss: 0.4184 - accuracy: 0.8528 - val_loss: 0.7058 - val_accuracy: 0.7759\n",
      "Epoch 20/20\n",
      "1250/1250 [==============================] - 218s 174ms/step - loss: 0.4112 - accuracy: 0.8540 - val_loss: 0.7066 - val_accuracy: 0.7797\n"
     ]
    }
   ],
   "source": [
    "hist = model.fit(x_train, y_train_one_hot, \n",
    "           batch_size=32, epochs=20, \n",
    "           validation_split=0.2)"
   ]
  },
  {
   "cell_type": "code",
   "execution_count": 68,
   "id": "fe7b1418",
   "metadata": {},
   "outputs": [
    {
     "data": {
      "image/png": "[encoded data removed]",
      "text/plain": [
       "<Figure size 432x288 with 1 Axes>"
      ]
     },
     "metadata": {
      "needs_background": "light"
     },
     "output_type": "display_data"
    }
   ],
   "source": [
    "plt.plot(hist.history['loss'])\n",
    "plt.plot(hist.history['val_loss'])\n",
    "plt.title('Model loss')\n",
    "plt.ylabel('Loss')\n",
    "plt.xlabel('Epoch')\n",
    "plt.legend(['Train', 'Val'], loc='upper right')\n",
    "plt.show()"
   ]
  },
  {
   "cell_type": "code",
   "execution_count": 69,
   "id": "df451ff4",
   "metadata": {},
   "outputs": [
    {
     "data": {
      "image/png": "[encoded data removed]",
      "text/plain": [
       "<Figure size 432x288 with 1 Axes>"
      ]
     },
     "metadata": {
      "needs_background": "light"
     },
     "output_type": "display_data"
    }
   ],
   "source": [
    "plt.plot(hist.history['accuracy'])\n",
    "plt.plot(hist.history['val_accuracy'])\n",
    "plt.title('Model accuracy')\n",
    "plt.ylabel('Accuracy')\n",
    "plt.xlabel('Epoch')\n",
    "plt.legend(['Train', 'Val'], loc='lower right')\n",
    "plt.show()"
   ]
  },
  {
   "cell_type": "code",
   "execution_count": 70,
   "id": "d3aa7a26",
   "metadata": {},
   "outputs": [
    {
     "name": "stdout",
     "output_type": "stream",
     "text": [
      "313/313 [==============================] - 12s 39ms/step - loss: 0.7259 - accuracy: 0.7718\n"
     ]
    },
    {
     "data": {
      "text/plain": [
       "0.7717999815940857"
      ]
     },
     "execution_count": 70,
     "metadata": {},
     "output_type": "execute_result"
    }
   ],
   "source": [
    "model.evaluate(x_test, y_test_one_hot)[1]"
   ]
  },
  {
   "cell_type": "code",
   "execution_count": 71,
   "id": "1112d93d",
   "metadata": {},
   "outputs": [],
   "source": [
    "model.save('my_cifar10_model.h5')"
   ]
  },
  {
   "cell_type": "code",
   "execution_count": 72,
   "id": "9b92576f",
   "metadata": {},
   "outputs": [],
   "source": [
    "from keras.models import load_model\n",
    "model = load_model('my_cifar10_model.h5')"
   ]
  },
  {
   "cell_type": "code",
   "execution_count": 73,
   "id": "efb1d76c",
   "metadata": {},
   "outputs": [],
   "source": [
    "my_image = plt.imread(\"cake.jpg\")"
   ]
  },
  {
   "cell_type": "code",
   "execution_count": 74,
   "id": "574de57a",
   "metadata": {},
   "outputs": [],
   "source": [
    "from skimage.transform import resize\n",
    "my_image_resized = resize(my_image, (32,32,3))"
   ]
  },
  {
   "cell_type": "code",
   "execution_count": 75,
   "id": "a0e2f779",
   "metadata": {},
   "outputs": [
    {
     "data": {
      "image/png": "[encoded data removed]",
      "text/plain": [
       "<Figure size 432x288 with 1 Axes>"
      ]
     },
     "metadata": {
      "needs_background": "light"
     },
     "output_type": "display_data"
    }
   ],
   "source": [
    "img = plt.imshow(my_image_resized)"
   ]
  },
  {
   "cell_type": "code",
   "execution_count": 76,
   "id": "4b51a7df",
   "metadata": {},
   "outputs": [],
   "source": [
    "import numpy as np\n",
    "probabilities = model.predict(np.array( [my_image_resized,] ))"
   ]
  },
  {
   "cell_type": "code",
   "execution_count": 77,
   "id": "bedd1b20",
   "metadata": {},
   "outputs": [
    {
     "data": {
      "text/plain": [
       "array([[8.5167696e-05, 1.2382520e-01, 5.3053640e-02, 1.5010923e-01,\n",
       "        1.5920823e-05, 8.8394001e-02, 1.9397950e-02, 8.3128005e-05,\n",
       "        5.6380153e-01, 1.2342385e-03]], dtype=float32)"
      ]
     },
     "execution_count": 77,
     "metadata": {},
     "output_type": "execute_result"
    }
   ],
   "source": [
    "probabilities"
   ]
  },
  {
   "cell_type": "code",
   "execution_count": 78,
   "id": "fd1bc3d1",
   "metadata": {},
   "outputs": [
    {
     "name": "stdout",
     "output_type": "stream",
     "text": [
      "Most likely class: ship -- Probability: 0.5638015\n",
      "Second most likely class: cat -- Probability: 0.15010923\n",
      "Third most likely class: automobile -- Probability: 0.1238252\n",
      "Fourth most likely class: dog -- Probability: 0.088394\n",
      "Fifth most likely class: bird -- Probability: 0.05305364\n"
     ]
    }
   ],
   "source": [
    "number_to_class = ['airplane', 'automobile', 'bird', 'cat', 'deer', 'dog', 'frog', 'horse', 'ship', 'truck']\n",
    "index = np.argsort(probabilities[0,:])\n",
    "print(\"Most likely class:\", number_to_class[index[9]], \"-- Probability:\", probabilities[0,index[9]])\n",
    "print(\"Second most likely class:\", number_to_class[index[8]], \"-- Probability:\", probabilities[0,index[8]])\n",
    "print(\"Third most likely class:\", number_to_class[index[7]], \"-- Probability:\", probabilities[0,index[7]])\n",
    "print(\"Fourth most likely class:\", number_to_class[index[6]], \"-- Probability:\", probabilities[0,index[6]])\n",
    "print(\"Fifth most likely class:\", number_to_class[index[5]], \"-- Probability:\", probabilities[0,index[5]])"
   ]
  },
  {
   "cell_type": "code",
   "execution_count": null,
   "id": "5cfe5cd6",
   "metadata": {},
   "outputs": [],
   "source": []
  }
 ],
 "metadata": {
  "kernelspec": {
   "display_name": "Python 3",
   "language": "python",
   "name": "python3"
  },
  "language_info": {
   "codemirror_mode": {
    "name": "ipython",
    "version": 3
   },
   "file_extension": ".py",
   "mimetype": "text/x-python",
   "name": "python",
   "nbconvert_exporter": "python",
   "pygments_lexer": "ipython3",
   "version": "3.8.10"
  }
 },
 "nbformat": 4,
 "nbformat_minor": 5
}
